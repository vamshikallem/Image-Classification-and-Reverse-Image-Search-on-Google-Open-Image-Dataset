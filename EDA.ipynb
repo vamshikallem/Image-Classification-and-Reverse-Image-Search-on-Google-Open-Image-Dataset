{
  "nbformat": 4,
  "nbformat_minor": 0,
  "metadata": {
    "kernelspec": {
      "display_name": "Python 3",
      "language": "python",
      "name": "python3"
    },
    "language_info": {
      "codemirror_mode": {
        "name": "ipython",
        "version": 3
      },
      "file_extension": ".py",
      "mimetype": "text/x-python",
      "name": "python",
      "nbconvert_exporter": "python",
      "pygments_lexer": "ipython3",
      "version": "3.6.8"
    },
    "colab": {
      "name": "EDA.ipynb",
      "provenance": []
    }
  },
  "cells": [
    {
      "cell_type": "markdown",
      "metadata": {
        "id": "_y6pT3aXG6wx",
        "colab_type": "text"
      },
      "source": [
        "# Exploratory Data Analysis\n",
        "\n",
        "### Metadata Exploratory Data Analysis\n",
        "\n",
        "We carried out a few intial tasks to explore and better understand the data, its consistency, to find any irregularities and try to visualize \n"
      ]
    },
    {
      "cell_type": "code",
      "metadata": {
        "id": "7z8E5rKOG6wz",
        "colab_type": "code",
        "colab": {},
        "outputId": "2b33b871-9cbc-4b30-d4f2-ba4cf01d4d41"
      },
      "source": [
        "import import_ipynb\n",
        "from data603 import HDFS\n",
        "\n",
        "httpdfs = HDFS.get_httpdfs()\n",
        "httpdfs.list('/data/keras_models')"
      ],
      "execution_count": null,
      "outputs": [
        {
          "output_type": "execute_result",
          "data": {
            "text/plain": [
              "['densenet',\n",
              " 'efficientnet',\n",
              " 'inception_resnet_v2',\n",
              " 'inception_v3',\n",
              " 'mobilenet',\n",
              " 'mobilenet_v2',\n",
              " 'mobilenet_v3',\n",
              " 'nasnet',\n",
              " 'resnet',\n",
              " 'vgg16',\n",
              " 'vgg19',\n",
              " 'xception']"
            ]
          },
          "metadata": {
            "tags": []
          },
          "execution_count": 122
        }
      ]
    },
    {
      "cell_type": "code",
      "metadata": {
        "id": "fpkcPXbwG6w7",
        "colab_type": "code",
        "colab": {},
        "outputId": "716b71c8-510e-4136-8287-ebec2df1c0fa"
      },
      "source": [
        "# Create a local directory\n",
        "import os\n",
        "keras_data = './keras_data'\n",
        "if(not os.path.exists(keras_data)):\n",
        "    os.mkdir(keras_data)\n",
        "\n",
        "# download file from hdfs\n",
        "mobilenet_weight_file = 'mobilenet_1_0_224_tf.h5'\n",
        "local_weight_file = f\"{keras_data}/{mobilenet_weight_file}\"\n",
        "if(not os.path.exists(local_weight_file)):\n",
        "    httpdfs.download(f\"/data/keras_models/mobilenet/{mobilenet_weight_file}\", local_weight_file)\n",
        "\n",
        "# check local file exists\n",
        "os.listdir(keras_data)"
      ],
      "execution_count": null,
      "outputs": [
        {
          "output_type": "execute_result",
          "data": {
            "text/plain": [
              "['vgg16_weights_tf_dim_ordering_tf_kernels.h5',\n",
              " '.ipynb_checkpoints',\n",
              " 'resnet50_weights_tf_dim_ordering_tf_kernels.h5',\n",
              " 'mobilenet_1_0_224_tf.h5']"
            ]
          },
          "metadata": {
            "tags": []
          },
          "execution_count": 2
        }
      ]
    },
    {
      "cell_type": "code",
      "metadata": {
        "id": "omDkCRT-G6xA",
        "colab_type": "code",
        "colab": {},
        "outputId": "020808c4-15a2-405f-a896-f1e9eb35e357"
      },
      "source": [
        "import import_ipynb\n",
        "from data603 import SparkLauncher\n",
        "\n",
        "# get a configuration object\n",
        "conf = SparkLauncher.get_spark_conf()\n",
        "\n",
        "# add a file to the configuration that will get copied to all the nodes on the cluster\n",
        "conf.set('spark.yarn.dist.files', './keras_data/mobilenet_1_0_224_tf.h5')\n",
        "\n",
        "# launch the cluster using the configuration\n",
        "spark = SparkLauncher.get_spark_session(pack_venv = True, conf = conf)"
      ],
      "execution_count": null,
      "outputs": [
        {
          "output_type": "stream",
          "text": [
            "importing Jupyter notebook from /scratch/data603/a280/data603/SparkLauncher.ipynb\n",
            "Creating Spark Configuration\n",
            "Creating Spark Configuration\n",
            "Packing Virtual Environment: a280.tar.gz\n",
            "Setting Environment Variables\n",
            "Creating Spark Session: a280_data603_spark_session\n"
          ],
          "name": "stdout"
        }
      ]
    },
    {
      "cell_type": "code",
      "metadata": {
        "id": "GihB1aHoG6xE",
        "colab_type": "code",
        "colab": {}
      },
      "source": [
        "class_descr = spark.read.csv('/data/google_open_image/metadata/class-descriptions-boxable.csv',header=False)"
      ],
      "execution_count": null,
      "outputs": []
    },
    {
      "cell_type": "code",
      "metadata": {
        "id": "R4SrbIyAG6xJ",
        "colab_type": "code",
        "colab": {}
      },
      "source": [
        "class_descr = class_descr.withColumnRenamed(\"_c0\", \"LabelName\").withColumnRenamed(\"_c1\", \"LabelText\")"
      ],
      "execution_count": null,
      "outputs": []
    },
    {
      "cell_type": "code",
      "metadata": {
        "id": "d0SBXDRgG6xP",
        "colab_type": "code",
        "colab": {},
        "outputId": "d6fe0fcc-a9c8-459e-9d81-3c93ea2634cd"
      },
      "source": [
        "class_descr.limit(2).show()"
      ],
      "execution_count": null,
      "outputs": [
        {
          "output_type": "stream",
          "text": [
            "+-----------+---------+\n",
            "|  LabelName|LabelText|\n",
            "+-----------+---------+\n",
            "|  /m/011k07| Tortoise|\n",
            "|/m/011q46kg|Container|\n",
            "+-----------+---------+\n",
            "\n"
          ],
          "name": "stdout"
        }
      ]
    },
    {
      "cell_type": "markdown",
      "metadata": {
        "id": "hha2JJp6G6xT",
        "colab_type": "text"
      },
      "source": [
        "We checked for null values and data consistency."
      ]
    },
    {
      "cell_type": "code",
      "metadata": {
        "id": "7j4sniagG6xU",
        "colab_type": "code",
        "colab": {},
        "outputId": "a5c92320-2672-40c2-d36d-b5c70f51ecc2"
      },
      "source": [
        "class_descr.filter(\"LabelText is null\").count()"
      ],
      "execution_count": null,
      "outputs": [
        {
          "output_type": "execute_result",
          "data": {
            "text/plain": [
              "0"
            ]
          },
          "metadata": {
            "tags": []
          },
          "execution_count": 20
        }
      ]
    },
    {
      "cell_type": "code",
      "metadata": {
        "id": "iY-JogAzG6xZ",
        "colab_type": "code",
        "colab": {},
        "outputId": "8d7e94a7-aeab-4662-8b7f-83e0be618dd2"
      },
      "source": [
        "class_descr.select(class_descr['LabelText']).distinct().count()"
      ],
      "execution_count": null,
      "outputs": [
        {
          "output_type": "execute_result",
          "data": {
            "text/plain": [
              "601"
            ]
          },
          "metadata": {
            "tags": []
          },
          "execution_count": 7
        }
      ]
    },
    {
      "cell_type": "code",
      "metadata": {
        "id": "B6irhLrMG6xd",
        "colab_type": "code",
        "colab": {}
      },
      "source": [
        "from pyspark.sql.types import *\n",
        "label_schema = StructType([\n",
        "    StructField(\"ImageID\", StringType()),\n",
        "    StructField(\"Source\", StringType()),\n",
        "    StructField(\"LabelName\", StringType()),\n",
        "    StructField(\"Confidence\", DoubleType())\n",
        "])\n",
        "labels = spark.read.csv('/data/google_open_image/labels/*.csv',header = True,schema = label_schema)"
      ],
      "execution_count": null,
      "outputs": []
    },
    {
      "cell_type": "code",
      "metadata": {
        "id": "QnzWX3SlG6xi",
        "colab_type": "code",
        "colab": {},
        "outputId": "af0ed649-6332-4818-dd26-e9243f62f52b"
      },
      "source": [
        "labels.show(5)"
      ],
      "execution_count": null,
      "outputs": [
        {
          "output_type": "stream",
          "text": [
            "+----------------+------------+---------+----------+\n",
            "|         ImageID|      Source|LabelName|Confidence|\n",
            "+----------------+------------+---------+----------+\n",
            "|000002b66c9c498e|verification|/m/014j1m|       0.0|\n",
            "|000002b66c9c498e|verification|/m/014sv8|       1.0|\n",
            "|000002b66c9c498e|verification| /m/01599|       0.0|\n",
            "|000002b66c9c498e|verification| /m/015p6|       0.0|\n",
            "|000002b66c9c498e|verification|/m/015x4r|       0.0|\n",
            "+----------------+------------+---------+----------+\n",
            "only showing top 5 rows\n",
            "\n"
          ],
          "name": "stdout"
        }
      ]
    },
    {
      "cell_type": "code",
      "metadata": {
        "id": "sRaIoVgwG6xm",
        "colab_type": "code",
        "colab": {}
      },
      "source": [
        "image_ids = labels.filter(\"Confidence > 0.99\").select(\"ImageID\").distinct()"
      ],
      "execution_count": null,
      "outputs": []
    },
    {
      "cell_type": "code",
      "metadata": {
        "id": "AhnFwbpsG6xp",
        "colab_type": "code",
        "colab": {}
      },
      "source": [
        "import pyspark.sql.functions as F\n",
        "images_parquet = spark.read.parquet('/etl/google_open_image/images_coalesced.parquet')\n",
        "images_parquet = images_parquet.select(['ImageID', 'Subset', 'Data'])\\\n",
        "                .withColumn(\"ImageID\", F.lower(F.col('ImageID')))"
      ],
      "execution_count": null,
      "outputs": []
    },
    {
      "cell_type": "code",
      "metadata": {
        "id": "9vffuDlqG6xt",
        "colab_type": "code",
        "colab": {}
      },
      "source": [
        "images_parquet = image_ids.join(images_parquet, on = 'ImageID', how = 'left')"
      ],
      "execution_count": null,
      "outputs": []
    },
    {
      "cell_type": "code",
      "metadata": {
        "id": "PRddvnvqG6xw",
        "colab_type": "code",
        "colab": {}
      },
      "source": [
        "bounding_boxes_1 = spark.read.csv('/data/google_open_image/bboxes/test-annotations-bbox.csv', header = True)\n",
        "bounding_boxes_2 = spark.read.csv('/data/google_open_image/bboxes/train-annotations-bbox.csv', header = True)\n",
        "bounding_boxes_3 = spark.read.csv('/data/google_open_image/bboxes/validation-annotations-bbox.csv', header = True)"
      ],
      "execution_count": null,
      "outputs": []
    },
    {
      "cell_type": "code",
      "metadata": {
        "id": "13YmQV_hG6x0",
        "colab_type": "code",
        "colab": {},
        "outputId": "15c0a1fe-53e0-4719-a381-c864e89125f0"
      },
      "source": [
        "bounding_boxes_1.show(2)"
      ],
      "execution_count": null,
      "outputs": [
        {
          "output_type": "stream",
          "text": [
            "+----------------+------+---------+----------+---------+---------+----------+----------+----------+-----------+---------+-----------+--------+\n",
            "|         ImageID|Source|LabelName|Confidence|     XMin|     XMax|      YMin|      YMax|IsOccluded|IsTruncated|IsGroupOf|IsDepiction|IsInside|\n",
            "+----------------+------+---------+----------+---------+---------+----------+----------+----------+-----------+---------+-----------+--------+\n",
            "|000026e7ee790996|xclick| /m/07j7r|         1| 0.071875|0.1453125|   0.20625|0.39166668|         0|          1|        1|          0|       0|\n",
            "|000026e7ee790996|xclick| /m/07j7r|         1|0.4390625| 0.571875|0.26458332|0.43541667|         0|          1|        1|          0|       0|\n",
            "+----------------+------+---------+----------+---------+---------+----------+----------+----------+-----------+---------+-----------+--------+\n",
            "only showing top 2 rows\n",
            "\n"
          ],
          "name": "stdout"
        }
      ]
    },
    {
      "cell_type": "markdown",
      "metadata": {
        "id": "ft5hDZp6G6x5",
        "colab_type": "text"
      },
      "source": [
        "To check differences among the test, train and validation data, we counted the number of images in each subset which had a confidence greater than 0.99. \n",
        "\n",
        "Number of images in test "
      ]
    },
    {
      "cell_type": "code",
      "metadata": {
        "id": "vMrBLsyQG6x5",
        "colab_type": "code",
        "colab": {},
        "outputId": "9d273b47-56d2-4e5b-def0-b17242701871"
      },
      "source": [
        "bounding_boxes_1.count()"
      ],
      "execution_count": null,
      "outputs": [
        {
          "output_type": "execute_result",
          "data": {
            "text/plain": [
              "937327"
            ]
          },
          "metadata": {
            "tags": []
          },
          "execution_count": 62
        }
      ]
    },
    {
      "cell_type": "markdown",
      "metadata": {
        "id": "eCBOVkv7G6x9",
        "colab_type": "text"
      },
      "source": [
        "Number of distinct images in test set having confidence greater than 0.99"
      ]
    },
    {
      "cell_type": "code",
      "metadata": {
        "id": "0wxfUp3JG6x9",
        "colab_type": "code",
        "colab": {},
        "outputId": "931c9707-4373-4a57-f073-eb91a507be97"
      },
      "source": [
        "bounding_boxes_1.filter('Confidence > 0.99').distinct().count()"
      ],
      "execution_count": null,
      "outputs": [
        {
          "output_type": "execute_result",
          "data": {
            "text/plain": [
              "937327"
            ]
          },
          "metadata": {
            "tags": []
          },
          "execution_count": 68
        }
      ]
    },
    {
      "cell_type": "markdown",
      "metadata": {
        "id": "Swh-_62LG6yB",
        "colab_type": "text"
      },
      "source": [
        "The numbers match for test set.\n",
        "\n",
        "Number of images in train set."
      ]
    },
    {
      "cell_type": "code",
      "metadata": {
        "id": "JRhFMiDxG6yB",
        "colab_type": "code",
        "colab": {},
        "outputId": "df57a3a9-fdad-4baf-cf41-c4aad24a59a9"
      },
      "source": [
        "bounding_boxes_2.count()"
      ],
      "execution_count": null,
      "outputs": [
        {
          "output_type": "execute_result",
          "data": {
            "text/plain": [
              "14610229"
            ]
          },
          "metadata": {
            "tags": []
          },
          "execution_count": 63
        }
      ]
    },
    {
      "cell_type": "markdown",
      "metadata": {
        "id": "n3hSXL4pG6yF",
        "colab_type": "text"
      },
      "source": [
        "Number of distinct images in train set having confidence greater than 0.99"
      ]
    },
    {
      "cell_type": "code",
      "metadata": {
        "id": "2QphEbkcG6yF",
        "colab_type": "code",
        "colab": {},
        "outputId": "0ae4fc0c-3ebf-499d-8aef-00f4f255f5d8"
      },
      "source": [
        "bounding_boxes_2.filter('Confidence > 0.99').distinct().count()"
      ],
      "execution_count": null,
      "outputs": [
        {
          "output_type": "execute_result",
          "data": {
            "text/plain": [
              "14609671"
            ]
          },
          "metadata": {
            "tags": []
          },
          "execution_count": 69
        }
      ]
    },
    {
      "cell_type": "markdown",
      "metadata": {
        "id": "KuoqQhcSG6yJ",
        "colab_type": "text"
      },
      "source": [
        "**We observe a difference** in the numbers. This is one difference we found between the 3 data subsets.\n",
        "\n",
        "Number of images in validation set."
      ]
    },
    {
      "cell_type": "code",
      "metadata": {
        "id": "Vr13ro1-G6yK",
        "colab_type": "code",
        "colab": {},
        "outputId": "7f5bec98-d6f5-4308-f169-271e55a582f8"
      },
      "source": [
        "bounding_boxes_3.count()"
      ],
      "execution_count": null,
      "outputs": [
        {
          "output_type": "execute_result",
          "data": {
            "text/plain": [
              "303980"
            ]
          },
          "metadata": {
            "tags": []
          },
          "execution_count": 64
        }
      ]
    },
    {
      "cell_type": "markdown",
      "metadata": {
        "id": "gTI3s3mvG6yN",
        "colab_type": "text"
      },
      "source": [
        "Number of distinct images in validation set having confidence greater than 0.99."
      ]
    },
    {
      "cell_type": "code",
      "metadata": {
        "id": "mrO0yAQ5G6yO",
        "colab_type": "code",
        "colab": {},
        "outputId": "7bb18c85-6d69-4449-c894-b791e6410184"
      },
      "source": [
        "bounding_boxes_3.filter('Confidence > 0.99').distinct().count()"
      ],
      "execution_count": null,
      "outputs": [
        {
          "output_type": "execute_result",
          "data": {
            "text/plain": [
              "303980"
            ]
          },
          "metadata": {
            "tags": []
          },
          "execution_count": 70
        }
      ]
    },
    {
      "cell_type": "code",
      "metadata": {
        "id": "AlLT3M6TG6yS",
        "colab_type": "code",
        "colab": {}
      },
      "source": [
        "bounding_boxes = bounding_boxes_1.union(bounding_boxes_2).union(bounding_boxes_3)"
      ],
      "execution_count": null,
      "outputs": []
    },
    {
      "cell_type": "code",
      "metadata": {
        "id": "nbvhhX3uG6yV",
        "colab_type": "code",
        "colab": {},
        "outputId": "cd02c3f9-b9de-41f4-f0e8-640b5c0b4364"
      },
      "source": [
        "bounding_boxes.columns"
      ],
      "execution_count": null,
      "outputs": [
        {
          "output_type": "execute_result",
          "data": {
            "text/plain": [
              "['ImageID',\n",
              " 'Source',\n",
              " 'LabelName',\n",
              " 'Confidence',\n",
              " 'XMin',\n",
              " 'XMax',\n",
              " 'YMin',\n",
              " 'YMax',\n",
              " 'IsOccluded',\n",
              " 'IsTruncated',\n",
              " 'IsGroupOf',\n",
              " 'IsDepiction',\n",
              " 'IsInside']"
            ]
          },
          "metadata": {
            "tags": []
          },
          "execution_count": 31
        }
      ]
    },
    {
      "cell_type": "code",
      "metadata": {
        "id": "Hor-dfYxG6yY",
        "colab_type": "code",
        "colab": {},
        "outputId": "d61ee369-906e-42dc-e605-c9acf1678622"
      },
      "source": [
        "bounding_boxes.show(10)"
      ],
      "execution_count": null,
      "outputs": [
        {
          "output_type": "stream",
          "text": [
            "+----------------+------+---------+----------+-----------+----------+----------+-----------+----------+-----------+---------+-----------+--------+\n",
            "|         ImageID|Source|LabelName|Confidence|       XMin|      XMax|      YMin|       YMax|IsOccluded|IsTruncated|IsGroupOf|IsDepiction|IsInside|\n",
            "+----------------+------+---------+----------+-----------+----------+----------+-----------+----------+-----------+---------+-----------+--------+\n",
            "|000026e7ee790996|xclick| /m/07j7r|         1|   0.071875| 0.1453125|   0.20625| 0.39166668|         0|          1|        1|          0|       0|\n",
            "|000026e7ee790996|xclick| /m/07j7r|         1|  0.4390625|  0.571875|0.26458332| 0.43541667|         0|          1|        1|          0|       0|\n",
            "|000026e7ee790996|xclick| /m/07j7r|         1|    0.66875|         1|         0|  0.5520833|         0|          1|        1|          0|       0|\n",
            "|000062a39995e348|xclick| /m/015p6|         1| 0.20620842|  0.849224|0.15463917|          1|         0|          0|        0|          0|       0|\n",
            "|000062a39995e348|xclick| /m/05s2s|         1| 0.13747229|0.37694013|         0| 0.88365245|         1|          1|        0|          0|       0|\n",
            "|0000c64e1253d68f|xclick|  /m/0k4j|         1|          0| 0.5132743|0.32079646|  0.6902655|         0|          1|        0|          0|       0|\n",
            "|0000c64e1253d68f|xclick|  /m/0k4j|         1|0.016224189|0.26843658|0.29867256| 0.46238938|         1|          0|        0|          0|       0|\n",
            "|0000c64e1253d68f|xclick|  /m/0k4j|         1| 0.48082596| 0.9041298|0.23230088| 0.48893806|         1|          0|        0|          0|       0|\n",
            "|0000c64e1253d68f|xclick|  /m/0k4j|         1|  0.7522124|         1| 0.3318584| 0.65707964|         0|          1|        0|          0|       0|\n",
            "|0000c64e1253d68f|xclick| /m/07yv9|         1|          0| 0.9734513|         0|0.044247787|         0|          1|        1|          0|       0|\n",
            "+----------------+------+---------+----------+-----------+----------+----------+-----------+----------+-----------+---------+-----------+--------+\n",
            "only showing top 10 rows\n",
            "\n"
          ],
          "name": "stdout"
        }
      ]
    },
    {
      "cell_type": "code",
      "metadata": {
        "id": "0SGChTkDG6yc",
        "colab_type": "code",
        "colab": {},
        "outputId": "c8bd51f6-dfee-40f7-cd38-522625425a3f"
      },
      "source": [
        "bounding_boxes.select('ImageID').count()"
      ],
      "execution_count": null,
      "outputs": [
        {
          "output_type": "execute_result",
          "data": {
            "text/plain": [
              "15851536"
            ]
          },
          "metadata": {
            "tags": []
          },
          "execution_count": 51
        }
      ]
    },
    {
      "cell_type": "markdown",
      "metadata": {
        "id": "R3TC31jLG6yg",
        "colab_type": "text"
      },
      "source": [
        "## To find number of bounding boxes per image."
      ]
    },
    {
      "cell_type": "code",
      "metadata": {
        "id": "5lGwaEsCG6yh",
        "colab_type": "code",
        "colab": {},
        "outputId": "d8ad9b64-2e78-4342-bcad-ce4571026498"
      },
      "source": [
        "bounding_boxes.groupby('ImageID').count().sort('count',ascending=False).show(10)"
      ],
      "execution_count": null,
      "outputs": [
        {
          "output_type": "stream",
          "text": [
            "+----------------+-----+\n",
            "|         ImageID|count|\n",
            "+----------------+-----+\n",
            "|55558de0ee48ecf6|  745|\n",
            "|51eac5c6e03db094|  697|\n",
            "|7d501a419bcd4908|  621|\n",
            "|fe5029b0fa7a6073|  620|\n",
            "|9ba50cb2198a23d8|  560|\n",
            "|6d9e9b98df51edca|  553|\n",
            "|7c88895aadef1f0c|  543|\n",
            "|058fd2f7c3fa5bf9|  541|\n",
            "|daa5d98515e5d123|  531|\n",
            "|05b0aefc92880a6c|  516|\n",
            "+----------------+-----+\n",
            "only showing top 10 rows\n",
            "\n"
          ],
          "name": "stdout"
        }
      ]
    },
    {
      "cell_type": "markdown",
      "metadata": {
        "id": "htfwd1WrG6yk",
        "colab_type": "text"
      },
      "source": [
        "We explored files in metadata."
      ]
    },
    {
      "cell_type": "code",
      "metadata": {
        "id": "zTJDQBd1G6yk",
        "colab_type": "code",
        "colab": {},
        "outputId": "79e1cf5c-31bc-4132-d204-3d43068b0bd8"
      },
      "source": [
        "hdfs= HDFS.get_hdfs()\n",
        "hdfs.ls('/data/google_open_image')"
      ],
      "execution_count": null,
      "outputs": [
        {
          "output_type": "execute_result",
          "data": {
            "text/plain": [
              "['/data/google_open_image/bboxes',\n",
              " '/data/google_open_image/ids',\n",
              " '/data/google_open_image/images',\n",
              " '/data/google_open_image/labels',\n",
              " '/data/google_open_image/masks',\n",
              " '/data/google_open_image/metadata',\n",
              " '/data/google_open_image/relationships',\n",
              " '/data/google_open_image/segmentations']"
            ]
          },
          "metadata": {
            "tags": []
          },
          "execution_count": 33
        }
      ]
    },
    {
      "cell_type": "code",
      "metadata": {
        "id": "zj3ywXl6G6yo",
        "colab_type": "code",
        "colab": {},
        "outputId": "44d76ba2-efea-4e76-d51b-c055213e942e"
      },
      "source": [
        "hdfs.ls('/data/google_open_image/metadata')"
      ],
      "execution_count": null,
      "outputs": [
        {
          "output_type": "execute_result",
          "data": {
            "text/plain": [
              "['/data/google_open_image/metadata/attributes-description.csv',\n",
              " '/data/google_open_image/metadata/class-descriptions-boxable.csv',\n",
              " '/data/google_open_image/metadata/classes-segmentation.txt',\n",
              " '/data/google_open_image/metadata/relationship-triplets.csv',\n",
              " '/data/google_open_image/metadata/relationships-description.csv']"
            ]
          },
          "metadata": {
            "tags": []
          },
          "execution_count": 34
        }
      ]
    },
    {
      "cell_type": "code",
      "metadata": {
        "id": "_OoYmuPWG6yt",
        "colab_type": "code",
        "colab": {}
      },
      "source": [
        "attri=spark.read.csv('/data/google_open_image/metadata/attributes-description.csv')"
      ],
      "execution_count": null,
      "outputs": []
    },
    {
      "cell_type": "code",
      "metadata": {
        "id": "pp4re1GTG6yx",
        "colab_type": "code",
        "colab": {},
        "outputId": "0509d531-a4be-4dad-987c-4bf9c05ccf99"
      },
      "source": [
        "attri.show(5)"
      ],
      "execution_count": null,
      "outputs": [
        {
          "output_type": "stream",
          "text": [
            "+---------+----------------+\n",
            "|      _c0|             _c1|\n",
            "+---------+----------------+\n",
            "|/m/02gy9n|     Transparent|\n",
            "| /m/05z87|         Plastic|\n",
            "| /m/0dnr7|(made of)Textile|\n",
            "| /m/04lbp|(made of)Leather|\n",
            "| /m/083vt|          Wooden|\n",
            "+---------+----------------+\n",
            "\n"
          ],
          "name": "stdout"
        }
      ]
    },
    {
      "cell_type": "code",
      "metadata": {
        "id": "B5PzB5x5G6y0",
        "colab_type": "code",
        "colab": {}
      },
      "source": [
        "rel_trip=spark.read.csv('/data/google_open_image/metadata/relationship-triplets.csv')"
      ],
      "execution_count": null,
      "outputs": []
    },
    {
      "cell_type": "code",
      "metadata": {
        "id": "7IWFtmMVG6y3",
        "colab_type": "code",
        "colab": {},
        "outputId": "5c75ef1c-edad-44ea-e87c-a9ebf6a17a77"
      },
      "source": [
        "rel_trip.show(5)"
      ],
      "execution_count": null,
      "outputs": [
        {
          "output_type": "stream",
          "text": [
            "+----------+----------+-----------------+\n",
            "|       _c0|       _c1|              _c2|\n",
            "+----------+----------+-----------------+\n",
            "|LabelName1|LabelName2|RelationshipLabel|\n",
            "|  /m/01599| /m/04bcr3|               on|\n",
            "| /m/05r655|/m/0h8my_4|            holds|\n",
            "| /m/05r655|  /m/03k3r|               on|\n",
            "|  /m/04yx4| /m/0l14j_|            holds|\n",
            "+----------+----------+-----------------+\n",
            "only showing top 5 rows\n",
            "\n"
          ],
          "name": "stdout"
        }
      ]
    },
    {
      "cell_type": "code",
      "metadata": {
        "id": "HSGAlyqSG6y6",
        "colab_type": "code",
        "colab": {}
      },
      "source": [
        "rel_descr=spark.read.csv('/data/google_open_image/metadata/relationships-description.csv')"
      ],
      "execution_count": null,
      "outputs": []
    },
    {
      "cell_type": "code",
      "metadata": {
        "id": "S0ylTwbLG6y9",
        "colab_type": "code",
        "colab": {},
        "outputId": "26abe453-11b6-41d9-a49a-3c13e2d1d40a"
      },
      "source": [
        "rel_descr.show(5)"
      ],
      "execution_count": null,
      "outputs": [
        {
          "output_type": "stream",
          "text": [
            "+--------------+--------------+\n",
            "|           _c0|           _c1|\n",
            "+--------------+--------------+\n",
            "|            at|            at|\n",
            "|            on|   on (top of)|\n",
            "|         holds|         holds|\n",
            "|         plays|         plays|\n",
            "|interacts_with|interacts with|\n",
            "+--------------+--------------+\n",
            "only showing top 5 rows\n",
            "\n"
          ],
          "name": "stdout"
        }
      ]
    },
    {
      "cell_type": "markdown",
      "metadata": {
        "id": "ccDzXOGqG6zC",
        "colab_type": "text"
      },
      "source": [
        "Reading the images file."
      ]
    },
    {
      "cell_type": "code",
      "metadata": {
        "id": "YWLRLAZ6G6zD",
        "colab_type": "code",
        "colab": {}
      },
      "source": [
        "images= spark.read.parquet('/etl/google_open_image/images.parquet')"
      ],
      "execution_count": null,
      "outputs": []
    },
    {
      "cell_type": "code",
      "metadata": {
        "id": "WOiLBghJG6zH",
        "colab_type": "code",
        "colab": {},
        "outputId": "3859832b-9120-4528-efca-94e91558be19"
      },
      "source": [
        "images.show(5)"
      ],
      "execution_count": null,
      "outputs": [
        {
          "output_type": "stream",
          "text": [
            "+----------------+------+------+--------------------+--------------------+--------------------+--------------------+--------------------+---------------+--------------------+------------+--------------------+--------------------+--------+\n",
            "|         ImageID|Subset|Format|                Data|         OriginalURL|  OriginalLandingURL|             License|    AuthorProfileURL|         Author|               Title|OriginalSize|         OriginalMD5|    Thumbnail300KURL|Rotation|\n",
            "+----------------+------+------+--------------------+--------------------+--------------------+--------------------+--------------------+---------------+--------------------+------------+--------------------+--------------------+--------+\n",
            "|0000d59fa570d973| train|   JPG|[FF D8 FF E0 00 1...|https://farm4.sta...|https://www.flick...|https://creativec...|https://www.flick...|Shkumbin Saneja|  James Blunt Tour 5|      778226|nPqr5Ngx1hTYH381e...|https://c6.static...|     0.0|\n",
            "|000213f8efef7523| train|   JPG|[FF D8 FF E0 00 1...|https://farm4.sta...|https://www.flick...|https://creativec...|https://www.flick...|        Ed Dale|            DSCF1089|      253430|VmHmzCMRyW/merIPv...|https://c4.static...|     0.0|\n",
            "|00031c22192e3389| train|   JPG|[FF D8 FF E0 00 1...|https://c2.static...|https://www.flick...|https://creativec...|https://www.flick...|     Andy Grant|Caroline-birthday...|      383393|NpSKmVKWSM6BmQUGs...|https://c6.static...|    null|\n",
            "|000376d44b3be92e| train|   JPG|[FF D8 FF E0 00 1...|https://c7.static...|https://www.flick...|https://creativec...|https://www.flick...|    Jennifer C.|        Jericho Park|     2807676|OEL8PvC/vSnU0l4H3...|https://c1.static...|     0.0|\n",
            "|00067defa682098f| train|   JPG|[FF D8 FF E0 00 1...|https://c8.static...|https://www.flick...|https://creativec...|https://www.flick...|      lirneasia|            IMG_5814|     3648600|ARNiegszsRjsFUEgx...|https://c2.static...|     0.0|\n",
            "+----------------+------+------+--------------------+--------------------+--------------------+--------------------+--------------------+---------------+--------------------+------------+--------------------+--------------------+--------+\n",
            "only showing top 5 rows\n",
            "\n"
          ],
          "name": "stdout"
        }
      ]
    },
    {
      "cell_type": "markdown",
      "metadata": {
        "id": "qAo-pK9MG6zL",
        "colab_type": "text"
      },
      "source": [
        "### Joining dataframes based on ImageID of each column."
      ]
    },
    {
      "cell_type": "code",
      "metadata": {
        "id": "ipe4j5SZG6zM",
        "colab_type": "code",
        "colab": {}
      },
      "source": [
        "final_df= labels.join(class_descr, on=['LabelName'], how='outer')\n",
        "final_df=final_df.join(images, on=['ImageID'], how='outer')"
      ],
      "execution_count": null,
      "outputs": []
    },
    {
      "cell_type": "markdown",
      "metadata": {
        "id": "lFD46fZVG6zR",
        "colab_type": "text"
      },
      "source": [
        "To visualize the Labeltext data in the dataframe, we used **groupby** to get the number of instances of each LabelText and sorted them in a descending order. "
      ]
    },
    {
      "cell_type": "code",
      "metadata": {
        "id": "3hivIqUXG6zR",
        "colab_type": "code",
        "colab": {}
      },
      "source": [
        "lab=final_df.groupby('LabelText').count().sort('count',ascending=False).limit(40)"
      ],
      "execution_count": null,
      "outputs": []
    },
    {
      "cell_type": "code",
      "metadata": {
        "id": "3XfRQwHaG6zU",
        "colab_type": "code",
        "colab": {}
      },
      "source": [
        "lab=lab.toPandas()"
      ],
      "execution_count": null,
      "outputs": []
    },
    {
      "cell_type": "code",
      "metadata": {
        "id": "UrO6WELeG6zb",
        "colab_type": "code",
        "colab": {},
        "outputId": "1d794041-6a10-4657-854e-6316ee29d6b3"
      },
      "source": [
        "lab"
      ],
      "execution_count": null,
      "outputs": [
        {
          "output_type": "execute_result",
          "data": {
            "text/html": [
              "<div>\n",
              "<style scoped>\n",
              "    .dataframe tbody tr th:only-of-type {\n",
              "        vertical-align: middle;\n",
              "    }\n",
              "\n",
              "    .dataframe tbody tr th {\n",
              "        vertical-align: top;\n",
              "    }\n",
              "\n",
              "    .dataframe thead th {\n",
              "        text-align: right;\n",
              "    }\n",
              "</style>\n",
              "<table border=\"1\" class=\"dataframe\">\n",
              "  <thead>\n",
              "    <tr style=\"text-align: right;\">\n",
              "      <th></th>\n",
              "      <th>LabelText</th>\n",
              "      <th>count</th>\n",
              "    </tr>\n",
              "  </thead>\n",
              "  <tbody>\n",
              "    <tr>\n",
              "      <th>0</th>\n",
              "      <td>Person</td>\n",
              "      <td>892037</td>\n",
              "    </tr>\n",
              "    <tr>\n",
              "      <th>1</th>\n",
              "      <td>Clothing</td>\n",
              "      <td>720911</td>\n",
              "    </tr>\n",
              "    <tr>\n",
              "      <th>2</th>\n",
              "      <td>Man</td>\n",
              "      <td>492675</td>\n",
              "    </tr>\n",
              "    <tr>\n",
              "      <th>3</th>\n",
              "      <td>Plant</td>\n",
              "      <td>486300</td>\n",
              "    </tr>\n",
              "    <tr>\n",
              "      <th>4</th>\n",
              "      <td>Tree</td>\n",
              "      <td>458747</td>\n",
              "    </tr>\n",
              "    <tr>\n",
              "      <th>5</th>\n",
              "      <td>Human face</td>\n",
              "      <td>410061</td>\n",
              "    </tr>\n",
              "    <tr>\n",
              "      <th>6</th>\n",
              "      <td>Woman</td>\n",
              "      <td>393642</td>\n",
              "    </tr>\n",
              "    <tr>\n",
              "      <th>7</th>\n",
              "      <td>Girl</td>\n",
              "      <td>299439</td>\n",
              "    </tr>\n",
              "    <tr>\n",
              "      <th>8</th>\n",
              "      <td>Vehicle</td>\n",
              "      <td>283084</td>\n",
              "    </tr>\n",
              "    <tr>\n",
              "      <th>9</th>\n",
              "      <td>Building</td>\n",
              "      <td>272843</td>\n",
              "    </tr>\n",
              "    <tr>\n",
              "      <th>10</th>\n",
              "      <td>Footwear</td>\n",
              "      <td>236402</td>\n",
              "    </tr>\n",
              "    <tr>\n",
              "      <th>11</th>\n",
              "      <td>Land vehicle</td>\n",
              "      <td>197046</td>\n",
              "    </tr>\n",
              "    <tr>\n",
              "      <th>12</th>\n",
              "      <td>Car</td>\n",
              "      <td>169802</td>\n",
              "    </tr>\n",
              "    <tr>\n",
              "      <th>13</th>\n",
              "      <td>Animal</td>\n",
              "      <td>156350</td>\n",
              "    </tr>\n",
              "    <tr>\n",
              "      <th>14</th>\n",
              "      <td>Wheel</td>\n",
              "      <td>144995</td>\n",
              "    </tr>\n",
              "    <tr>\n",
              "      <th>15</th>\n",
              "      <td>Flower</td>\n",
              "      <td>143348</td>\n",
              "    </tr>\n",
              "    <tr>\n",
              "      <th>16</th>\n",
              "      <td>Boy</td>\n",
              "      <td>125954</td>\n",
              "    </tr>\n",
              "    <tr>\n",
              "      <th>17</th>\n",
              "      <td>Food</td>\n",
              "      <td>121823</td>\n",
              "    </tr>\n",
              "    <tr>\n",
              "      <th>18</th>\n",
              "      <td>House</td>\n",
              "      <td>110116</td>\n",
              "    </tr>\n",
              "    <tr>\n",
              "      <th>19</th>\n",
              "      <td>Mammal</td>\n",
              "      <td>107119</td>\n",
              "    </tr>\n",
              "    <tr>\n",
              "      <th>20</th>\n",
              "      <td>Window</td>\n",
              "      <td>105199</td>\n",
              "    </tr>\n",
              "    <tr>\n",
              "      <th>21</th>\n",
              "      <td>Human head</td>\n",
              "      <td>102810</td>\n",
              "    </tr>\n",
              "    <tr>\n",
              "      <th>22</th>\n",
              "      <td>Human hair</td>\n",
              "      <td>99903</td>\n",
              "    </tr>\n",
              "    <tr>\n",
              "      <th>23</th>\n",
              "      <td>Human body</td>\n",
              "      <td>97750</td>\n",
              "    </tr>\n",
              "    <tr>\n",
              "      <th>24</th>\n",
              "      <td>Furniture</td>\n",
              "      <td>95721</td>\n",
              "    </tr>\n",
              "    <tr>\n",
              "      <th>25</th>\n",
              "      <td>Fashion accessory</td>\n",
              "      <td>78014</td>\n",
              "    </tr>\n",
              "    <tr>\n",
              "      <th>26</th>\n",
              "      <td>Table</td>\n",
              "      <td>76686</td>\n",
              "    </tr>\n",
              "    <tr>\n",
              "      <th>27</th>\n",
              "      <td>Auto part</td>\n",
              "      <td>72229</td>\n",
              "    </tr>\n",
              "    <tr>\n",
              "      <th>28</th>\n",
              "      <td>Human arm</td>\n",
              "      <td>69961</td>\n",
              "    </tr>\n",
              "    <tr>\n",
              "      <th>29</th>\n",
              "      <td>Human nose</td>\n",
              "      <td>68160</td>\n",
              "    </tr>\n",
              "    <tr>\n",
              "      <th>30</th>\n",
              "      <td>Glasses</td>\n",
              "      <td>65414</td>\n",
              "    </tr>\n",
              "    <tr>\n",
              "      <th>31</th>\n",
              "      <td>Tire</td>\n",
              "      <td>62454</td>\n",
              "    </tr>\n",
              "    <tr>\n",
              "      <th>32</th>\n",
              "      <td>Human eye</td>\n",
              "      <td>61699</td>\n",
              "    </tr>\n",
              "    <tr>\n",
              "      <th>33</th>\n",
              "      <td>Sports equipment</td>\n",
              "      <td>60922</td>\n",
              "    </tr>\n",
              "    <tr>\n",
              "      <th>34</th>\n",
              "      <td>Human mouth</td>\n",
              "      <td>55657</td>\n",
              "    </tr>\n",
              "    <tr>\n",
              "      <th>35</th>\n",
              "      <td>Dress</td>\n",
              "      <td>54159</td>\n",
              "    </tr>\n",
              "    <tr>\n",
              "      <th>36</th>\n",
              "      <td>Suit</td>\n",
              "      <td>51331</td>\n",
              "    </tr>\n",
              "    <tr>\n",
              "      <th>37</th>\n",
              "      <td>Bird</td>\n",
              "      <td>47588</td>\n",
              "    </tr>\n",
              "    <tr>\n",
              "      <th>38</th>\n",
              "      <td>Human hand</td>\n",
              "      <td>44721</td>\n",
              "    </tr>\n",
              "    <tr>\n",
              "      <th>39</th>\n",
              "      <td>Dog</td>\n",
              "      <td>44484</td>\n",
              "    </tr>\n",
              "  </tbody>\n",
              "</table>\n",
              "</div>"
            ],
            "text/plain": [
              "            LabelText   count\n",
              "0              Person  892037\n",
              "1            Clothing  720911\n",
              "2                 Man  492675\n",
              "3               Plant  486300\n",
              "4                Tree  458747\n",
              "5          Human face  410061\n",
              "6               Woman  393642\n",
              "7                Girl  299439\n",
              "8             Vehicle  283084\n",
              "9            Building  272843\n",
              "10           Footwear  236402\n",
              "11       Land vehicle  197046\n",
              "12                Car  169802\n",
              "13             Animal  156350\n",
              "14              Wheel  144995\n",
              "15             Flower  143348\n",
              "16                Boy  125954\n",
              "17               Food  121823\n",
              "18              House  110116\n",
              "19             Mammal  107119\n",
              "20             Window  105199\n",
              "21         Human head  102810\n",
              "22         Human hair   99903\n",
              "23         Human body   97750\n",
              "24          Furniture   95721\n",
              "25  Fashion accessory   78014\n",
              "26              Table   76686\n",
              "27          Auto part   72229\n",
              "28          Human arm   69961\n",
              "29         Human nose   68160\n",
              "30            Glasses   65414\n",
              "31               Tire   62454\n",
              "32          Human eye   61699\n",
              "33   Sports equipment   60922\n",
              "34        Human mouth   55657\n",
              "35              Dress   54159\n",
              "36               Suit   51331\n",
              "37               Bird   47588\n",
              "38         Human hand   44721\n",
              "39                Dog   44484"
            ]
          },
          "metadata": {
            "tags": []
          },
          "execution_count": 96
        }
      ]
    },
    {
      "cell_type": "markdown",
      "metadata": {
        "id": "mwBKKxD2G6ze",
        "colab_type": "text"
      },
      "source": [
        "## Visualizing the labels based on the number of times they occur in the data "
      ]
    },
    {
      "cell_type": "code",
      "metadata": {
        "id": "QCHcJawLG6zf",
        "colab_type": "code",
        "colab": {}
      },
      "source": [
        "import pandas as pd\n",
        "import matplotlib.pyplot as plt"
      ],
      "execution_count": null,
      "outputs": []
    },
    {
      "cell_type": "code",
      "metadata": {
        "id": "Z6f5_cS-G6zm",
        "colab_type": "code",
        "colab": {},
        "outputId": "18ab050d-bc30-4b1a-b081-ea137e3feec2"
      },
      "source": [
        "plt.barh(lab['LabelText'],lab['count'])\n",
        "fig=plt.gcf()\n",
        "fig.set_size_inches(8,8)\n",
        "_=plt.ylabel('LabelText',fontsize=14)\n",
        "_=plt.xlabel('Count',fontsize=14)"
      ],
      "execution_count": null,
      "outputs": [
        {
          "output_type": "display_data",
          "data": {
            "image/png": "[encoded data removed]",
            "text/plain": [
              "<Figure size 576x576 with 1 Axes>"
            ]
          },
          "metadata": {
            "tags": [],
            "needs_background": "light"
          }
        }
      ]
    },
    {
      "cell_type": "code",
      "metadata": {
        "id": "dAxn0WZiG6zr",
        "colab_type": "code",
        "colab": {},
        "outputId": "504fa72a-ffda-4e07-f9f4-f250da61fb84"
      },
      "source": [
        "hdfs.ls('/data/google_open_image/segmentations')"
      ],
      "execution_count": null,
      "outputs": [
        {
          "output_type": "execute_result",
          "data": {
            "text/plain": [
              "['/data/google_open_image/segmentations/test-annotations-object-segmentation.csv',\n",
              " '/data/google_open_image/segmentations/train-annotations-object-segmentation.csv',\n",
              " '/data/google_open_image/segmentations/validation-annotations-object-segmentation.csv']"
            ]
          },
          "metadata": {
            "tags": []
          },
          "execution_count": 110
        }
      ]
    },
    {
      "cell_type": "code",
      "metadata": {
        "id": "A3FNPIx0G6zy",
        "colab_type": "code",
        "colab": {}
      },
      "source": [
        "seg=spark.read.csv('/data/google_open_image/segmentations/*.csv',header=True)"
      ],
      "execution_count": null,
      "outputs": []
    },
    {
      "cell_type": "code",
      "metadata": {
        "id": "r7QDKlnRG6z0",
        "colab_type": "code",
        "colab": {},
        "outputId": "008dc3c0-8de8-40a2-9dd1-06a19c9ef948"
      },
      "source": [
        "seg.show(5)"
      ],
      "execution_count": null,
      "outputs": [
        {
          "output_type": "stream",
          "text": [
            "+--------------------+----------------+----------+--------+--------+--------+--------+--------+------------+--------------------+\n",
            "|            MaskPath|         ImageID| LabelName|   BoxID| BoxXMin| BoxXMax| BoxYMin| BoxYMax|PredictedIoU|              Clicks|\n",
            "+--------------------+----------------+----------+--------+--------+--------+--------+--------+------------+--------------------+\n",
            "|677c122b0eaa5d16_...|677c122b0eaa5d16|  /m/04yx4|9a041d52|  0.8875|0.960938|0.454167|0.720833|     0.86864|0.95498 0.65197 1...|\n",
            "|05529ae018130c68_...|05529ae018130c68|  /m/09j2d|b1115fd0|0.086875|0.254375|0.504708| 0.79096|      0.8025|0.16388 0.50114 1...|\n",
            "|96e7ee70b428a54e_...|96e7ee70b428a54e|  /m/04yx4|05580497| 0.45625|0.603125|0.222013|0.903104|      0.5585|0.52271 0.46625 0...|\n",
            "|76084f166740d78a_...|76084f166740d78a|  /m/09j2d|557dfcf5| 0.01875|0.145625|0.313333|0.754167|     0.62394|0.08756 0.34082 0...|\n",
            "|ebaccfc70c721055_...|ebaccfc70c721055|/m/02p0tk3|b39109c0|  0.0975|  0.2125|0.291667|0.930833|     0.84223|0.19847 0.85413 1...|\n",
            "+--------------------+----------------+----------+--------+--------+--------+--------+--------+------------+--------------------+\n",
            "only showing top 5 rows\n",
            "\n"
          ],
          "name": "stdout"
        }
      ]
    },
    {
      "cell_type": "markdown",
      "metadata": {
        "id": "OX1JRh43G6z4",
        "colab_type": "text"
      },
      "source": [
        "We tried exploring the different categories and sub-categories in the data using the **bbox_labels** file."
      ]
    },
    {
      "cell_type": "code",
      "metadata": {
        "id": "qZfbMRkfG6z5",
        "colab_type": "code",
        "colab": {}
      },
      "source": [
        "import json\n",
        "with open('bbox_labels.json') as json_file:\n",
        "    data = json.load(json_file)"
      ],
      "execution_count": null,
      "outputs": []
    },
    {
      "cell_type": "code",
      "metadata": {
        "id": "_bictT0YG6z7",
        "colab_type": "code",
        "colab": {},
        "outputId": "1794cbca-10c5-4a2f-b75f-560f38d913a5"
      },
      "source": [
        "data"
      ],
      "execution_count": null,
      "outputs": [
        {
          "output_type": "execute_result",
          "data": {
            "text/plain": [
              "{'LabelName': '/m/0bl9f',\n",
              " 'Subcategory': [{'LabelName': '/m/0242l'},\n",
              "  {'LabelName': '/m/03120'},\n",
              "  {'LabelName': '/m/0h8l4fh'},\n",
              "  {'LabelName': '/m/0138tl',\n",
              "   'Subcategory': [{'LabelName': '/m/0167gd'},\n",
              "    {'LabelName': '/m/01j51'},\n",
              "    {'LabelName': '/m/029b3'},\n",
              "    {'LabelName': '/m/02wmf'},\n",
              "    {'LabelName': '/m/02zt3'},\n",
              "    {'LabelName': '/m/0kmg4'}]},\n",
              "  {'LabelName': '/m/019dx1',\n",
              "   'Subcategory': [{'LabelName': '/m/0174k2'},\n",
              "    {'LabelName': '/m/01k6s3'},\n",
              "    {'LabelName': '/m/029bxz'},\n",
              "    {'LabelName': '/m/02pjr4'},\n",
              "    {'LabelName': '/m/02wv84t'},\n",
              "    {'LabelName': '/m/02x984l'},\n",
              "    {'LabelName': '/m/03qhv5'},\n",
              "    {'LabelName': '/m/03s_tn'},\n",
              "    {'LabelName': '/m/03wvsk'},\n",
              "    {'LabelName': '/m/040b_t'},\n",
              "    {'LabelName': '/m/04169hn'},\n",
              "    {'LabelName': '/m/04lvq_'},\n",
              "    {'LabelName': '/m/063rgb'},\n",
              "    {'LabelName': '/m/07xyvk'},\n",
              "    {'LabelName': '/m/0fx9l'},\n",
              "    {'LabelName': '/m/0ky7b'},\n",
              "    {'LabelName': '/m/0llzx'},\n",
              "    {'LabelName': '/m/0c3m8g'},\n",
              "    {'LabelName': '/m/03ldnb'}]},\n",
              "  {'LabelName': '/m/02pkr5',\n",
              "   'Subcategory': [{'LabelName': '/m/0130jx'},\n",
              "    {'LabelName': '/m/01vbnl'},\n",
              "    {'LabelName': '/m/02f9f_'},\n",
              "    {'LabelName': '/m/02jz0l'},\n",
              "    {'LabelName': '/m/03dnzn'},\n",
              "    {'LabelName': '/m/09g1w'}]},\n",
              "  {'LabelName': '/m/02rdsp',\n",
              "   'Subcategory': [{'LabelName': '/m/01lsmm'},\n",
              "    {'LabelName': '/m/01n5jq'},\n",
              "    {'LabelName': '/m/024d2'},\n",
              "    {'LabelName': '/m/025dyy'},\n",
              "    {'LabelName': '/m/025fsf'},\n",
              "    {'LabelName': '/m/02d9qx'},\n",
              "    {'LabelName': '/m/02ddwp'},\n",
              "    {'LabelName': '/m/02fh7f'},\n",
              "    {'LabelName': '/m/02xqq'},\n",
              "    {'LabelName': '/m/03m3vtv'},\n",
              "    {'LabelName': '/m/04zwwv'},\n",
              "    {'LabelName': '/m/05676x'},\n",
              "    {'LabelName': '/m/05gqfk'},\n",
              "    {'LabelName': '/m/080n7g'},\n",
              "    {'LabelName': '/m/09gtd'},\n",
              "    {'LabelName': '/m/0frqm'},\n",
              "    {'LabelName': '/m/0k1tl'}]},\n",
              "  {'LabelName': '/m/02w3r3'},\n",
              "  {'LabelName': '/m/034c16'},\n",
              "  {'LabelName': '/m/03_wxk',\n",
              "   'Subcategory': [{'LabelName': '/m/03hlz0c',\n",
              "     'Subcategory': [{'LabelName': '/m/01_5g'},\n",
              "      {'LabelName': '/m/027rl48'},\n",
              "      {'LabelName': '/m/02d1br'},\n",
              "      {'LabelName': '/m/02mqfb'},\n",
              "      {'LabelName': '/m/02pdsw'},\n",
              "      {'LabelName': '/m/02vwcm'},\n",
              "      {'LabelName': '/m/03v5tg'},\n",
              "      {'LabelName': '/m/04ctx'},\n",
              "      {'LabelName': '/m/04f5ws'},\n",
              "      {'LabelName': '/m/07v9_z'},\n",
              "      {'LabelName': '/m/08ks85'},\n",
              "      {'LabelName': '/m/0cmx8'},\n",
              "      {'LabelName': '/m/0dt3t'}]},\n",
              "    {'LabelName': '/m/04brg2',\n",
              "     'Subcategory': [{'LabelName': '/m/01_5g'},\n",
              "      {'LabelName': '/m/01fh4r'},\n",
              "      {'LabelName': '/m/02jvh9'},\n",
              "      {'LabelName': '/m/02p5f1q'},\n",
              "      {'LabelName': '/m/02x8cch'},\n",
              "      {'LabelName': '/m/03hj559'},\n",
              "      {'LabelName': '/m/03q5c7'},\n",
              "      {'LabelName': '/m/0440zs'},\n",
              "      {'LabelName': '/m/04dr76w'},\n",
              "      {'LabelName': '/m/04kkgm'},\n",
              "      {'LabelName': '/m/050gv4'},\n",
              "      {'LabelName': '/m/054fyh'},\n",
              "      {'LabelName': '/m/058qzx'},\n",
              "      {'LabelName': '/m/08hvt4'},\n",
              "      {'LabelName': '/m/099ssp'},\n",
              "      {'LabelName': '/m/09tvcd'},\n",
              "      {'LabelName': '/m/0cmx8'},\n",
              "      {'LabelName': '/m/0dt3t'},\n",
              "      {'LabelName': '/m/0h8n27j'},\n",
              "      {'LabelName': '/m/0h8n6ft'}]},\n",
              "    {'LabelName': '/m/04v6l4'},\n",
              "    {'LabelName': '/m/084rd'},\n",
              "    {'LabelName': '/m/0h8kx63'},\n",
              "    {'LabelName': '/m/0h99cwc',\n",
              "     'Subcategory': [{'LabelName': '/m/029bxz'},\n",
              "      {'LabelName': '/m/02pjr4'},\n",
              "      {'LabelName': '/m/02tsc9'},\n",
              "      {'LabelName': '/m/03y6mg'},\n",
              "      {'LabelName': '/m/040b_t'},\n",
              "      {'LabelName': '/m/04z4wx'},\n",
              "      {'LabelName': '/m/063rgb'},\n",
              "      {'LabelName': '/m/07xyvk'},\n",
              "      {'LabelName': '/m/0fx9l'},\n",
              "      {'LabelName': '/m/0h8ntjv'},\n",
              "      {'LabelName': '/m/0ky7b'}]}]},\n",
              "  {'LabelName': '/m/03tw93'},\n",
              "  {'LabelName': '/m/0b3fp9'},\n",
              "  {'LabelName': '/m/0bt_c3'},\n",
              "  {'LabelName': '/m/0c_jw',\n",
              "   'Subcategory': [{'LabelName': '/m/01mzpv'},\n",
              "    {'LabelName': '/m/01s105'},\n",
              "    {'LabelName': '/m/01y9k5'},\n",
              "    {'LabelName': '/m/0271qf7'},\n",
              "    {'LabelName': '/m/02crq1',\n",
              "     'Subcategory': [{'LabelName': '/m/03m3pdh'}, {'LabelName': '/m/0703r8'}]},\n",
              "    {'LabelName': '/m/02vkqh8'},\n",
              "    {'LabelName': '/m/02z51p'},\n",
              "    {'LabelName': '/m/03__z0'},\n",
              "    {'LabelName': '/m/03ssj5',\n",
              "     'Subcategory': [{'LabelName': '/m/061hd_'}, {'LabelName': '/m/026qbn5'}]},\n",
              "    {'LabelName': '/m/047j0r'},\n",
              "    {'LabelName': '/m/04bcr3',\n",
              "     'Subcategory': [{'LabelName': '/m/078n6m'}, {'LabelName': '/m/0h8n5zk'}]},\n",
              "    {'LabelName': '/m/05kyg_'},\n",
              "    {'LabelName': '/m/0642b4'},\n",
              "    {'LabelName': '/m/0cvnqh'},\n",
              "    {'LabelName': '/m/0fqfqc'},\n",
              "    {'LabelName': '/m/0fqt361'},\n",
              "    {'LabelName': '/m/0gjbg72'},\n",
              "    {'LabelName': '/m/0h8mzrc'},\n",
              "    {'LabelName': '/m/04y4h8h'},\n",
              "    {'LabelName': '/m/0d4w1'}]},\n",
              "  {'LabelName': '/m/0h8n6f9'},\n",
              "  {'LabelName': '/m/0h8nm9j'},\n",
              "  {'LabelName': '/m/01jfsr'},\n",
              "  {'LabelName': '/m/01x3z',\n",
              "   'Subcategory': [{'LabelName': '/m/046dlr'},\n",
              "    {'LabelName': '/m/06_72j'},\n",
              "    {'LabelName': '/m/0h8mzrc'}]},\n",
              "  {'LabelName': '/m/02s195'},\n",
              "  {'LabelName': '/m/031b6r'},\n",
              "  {'LabelName': '/m/03rszm'},\n",
              "  {'LabelName': '/m/054_l'},\n",
              "  {'LabelName': '/m/06msq',\n",
              "   'Subcategory': [{'LabelName': '/m/0152hh'},\n",
              "    {'LabelName': '/m/04yqq2'},\n",
              "    {'LabelName': '/m/01yx86'}]},\n",
              "  {'LabelName': '/m/06z37_'},\n",
              "  {'LabelName': '/m/0c06p'},\n",
              "  {'LabelName': '/m/0dtln'},\n",
              "  {'LabelName': '/m/0h8nr_l',\n",
              "   'Subcategory': [{'LabelName': '/m/0162_1'},\n",
              "    {'LabelName': '/m/09gtd'},\n",
              "    {'LabelName': '/m/0c3mkw'},\n",
              "    {'LabelName': '/m/0h8nsvg'}]},\n",
              "  {'LabelName': '/m/01gllr'},\n",
              "  {'LabelName': '/m/01j61q'},\n",
              "  {'LabelName': '/m/015qbp'},\n",
              "  {'LabelName': '/m/015qff'},\n",
              "  {'LabelName': '/m/01knjb'},\n",
              "  {'LabelName': '/m/01mqdt', 'Subcategory': [{'LabelName': '/m/02pv19'}]},\n",
              "  {'LabelName': '/m/01pns0'},\n",
              "  {'LabelName': '/m/0220r2'},\n",
              "  {'LabelName': '/m/033rq4'},\n",
              "  {'LabelName': '/m/065h6l'},\n",
              "  {'LabelName': '/m/0cgh4',\n",
              "   'Part': [{'LabelName': '/m/01xgg_',\n",
              "     'Subcategory': [{'LabelName': '/m/012ysf'},\n",
              "      {'LabelName': '/m/02lbcq'},\n",
              "      {'LabelName': '/m/073g6'},\n",
              "      {'LabelName': '/m/0j496'}]},\n",
              "    {'LabelName': '/m/04szw',\n",
              "     'Subcategory': [{'LabelName': '/m/013y1f'},\n",
              "      {'LabelName': '/m/018j2'},\n",
              "      {'LabelName': '/m/01xqw'},\n",
              "      {'LabelName': '/m/026t6'},\n",
              "      {'LabelName': '/m/0319l'},\n",
              "      {'LabelName': '/m/0342h'},\n",
              "      {'LabelName': '/m/03m5k'},\n",
              "      {'LabelName': '/m/03q5t'},\n",
              "      {'LabelName': '/m/03qjg'},\n",
              "      {'LabelName': '/m/057cc'},\n",
              "      {'LabelName': '/m/05kms'},\n",
              "      {'LabelName': '/m/05r5c'},\n",
              "      {'LabelName': '/m/06ncr'},\n",
              "      {'LabelName': '/m/07c6l'},\n",
              "      {'LabelName': '/m/07gql'},\n",
              "      {'LabelName': '/m/07y_7'},\n",
              "      {'LabelName': '/m/0f8s22'},\n",
              "      {'LabelName': '/m/0l14j_'},\n",
              "      {'LabelName': '/m/0mkg'},\n",
              "      {'LabelName': '/m/0xzly'}]},\n",
              "    {'LabelName': '/m/05y5lj',\n",
              "     'Subcategory': [{'LabelName': '/m/014y4n'},\n",
              "      {'LabelName': '/m/018xm',\n",
              "       'Subcategory': [{'LabelName': '/m/01226z'},\n",
              "        {'LabelName': '/m/02ctlc'},\n",
              "        {'LabelName': '/m/02rgn06'},\n",
              "        {'LabelName': '/m/05ctyq'},\n",
              "        {'LabelName': '/m/0wdt60w'}]},\n",
              "      {'LabelName': '/m/0199g', 'Part': [{'LabelName': '/m/01bqk0'}]},\n",
              "      {'LabelName': '/m/019w40'},\n",
              "      {'LabelName': '/m/01g3x7'},\n",
              "      {'LabelName': '/m/0268lbt'},\n",
              "      {'LabelName': '/m/02p3w7d'},\n",
              "      {'LabelName': '/m/02wmf'},\n",
              "      {'LabelName': '/m/03g8mr'},\n",
              "      {'LabelName': '/m/03grzl'},\n",
              "      {'LabelName': '/m/0420v5'},\n",
              "      {'LabelName': '/m/044r5d'},\n",
              "      {'LabelName': '/m/054xkw'},\n",
              "      {'LabelName': '/m/057p5t'},\n",
              "      {'LabelName': '/m/06__v'},\n",
              "      {'LabelName': '/m/06_fw'},\n",
              "      {'LabelName': '/m/071p9'},\n",
              "      {'LabelName': '/m/07pj7bq'},\n",
              "      {'LabelName': '/m/04h8sr'},\n",
              "      {'LabelName': '/m/03kt2w'},\n",
              "      {'LabelName': '/m/030610'},\n",
              "      {'LabelName': '/m/076lb9'},\n",
              "      {'LabelName': '/m/03wym'},\n",
              "      {'LabelName': '/m/0cqn2'},\n",
              "      {'LabelName': '/m/0cyfs'},\n",
              "      {'LabelName': '/m/0dv9c',\n",
              "       'Subcategory': [{'LabelName': '/m/0h8my_4'},\n",
              "        {'LabelName': '/m/05_5p_0'}]},\n",
              "      {'LabelName': '/m/0l3ms'},\n",
              "      {'LabelName': '/m/0zvk5',\n",
              "       'Subcategory': [{'LabelName': '/m/03p3bw'},\n",
              "        {'LabelName': '/m/07qxg_'}]},\n",
              "      {'LabelName': '/m/04p0qw'}]},\n",
              "    {'LabelName': '/m/07k1x',\n",
              "     'Subcategory': [{'LabelName': '/m/011q46kg',\n",
              "       'Subcategory': [{'LabelName': '/m/02jnhm'},\n",
              "        {'LabelName': '/m/02zn6n'},\n",
              "        {'LabelName': '/m/04dr76w'},\n",
              "        {'LabelName': '/m/07kng9'},\n",
              "        {'LabelName': '/m/08hvt4'},\n",
              "        {'LabelName': '/m/0bjyj5'},\n",
              "        {'LabelName': '/m/0d20w4'},\n",
              "        {'LabelName': '/m/0fm3zh'}]},\n",
              "      {'LabelName': '/m/012w5l'},\n",
              "      {'LabelName': '/m/012xff'},\n",
              "      {'LabelName': '/m/01bms0'},\n",
              "      {'LabelName': '/m/01d380'},\n",
              "      {'LabelName': '/m/01j4z9'},\n",
              "      {'LabelName': '/m/01j5ks'},\n",
              "      {'LabelName': '/m/01kb5b'},\n",
              "      {'LabelName': '/m/01lsmm'},\n",
              "      {'LabelName': '/m/02bm9n'},\n",
              "      {'LabelName': '/m/03hlz0c',\n",
              "       'Subcategory': [{'LabelName': '/m/01_5g'},\n",
              "        {'LabelName': '/m/027rl48'},\n",
              "        {'LabelName': '/m/02d1br'},\n",
              "        {'LabelName': '/m/02mqfb'},\n",
              "        {'LabelName': '/m/02pdsw'},\n",
              "        {'LabelName': '/m/02vwcm'},\n",
              "        {'LabelName': '/m/03v5tg'},\n",
              "        {'LabelName': '/m/04ctx'},\n",
              "        {'LabelName': '/m/04f5ws'},\n",
              "        {'LabelName': '/m/07v9_z'},\n",
              "        {'LabelName': '/m/08ks85'},\n",
              "        {'LabelName': '/m/0cmx8'},\n",
              "        {'LabelName': '/m/0dt3t'}]},\n",
              "      {'LabelName': '/m/03l9g'},\n",
              "      {'LabelName': '/m/03txqz'},\n",
              "      {'LabelName': '/m/04vv5k'},\n",
              "      {'LabelName': '/m/05bm6'},\n",
              "      {'LabelName': '/m/073bxn'},\n",
              "      {'LabelName': '/m/07dd4'},\n",
              "      {'LabelName': '/m/0_dqb'},\n",
              "      {'LabelName': '/m/0c2jj'},\n",
              "      {'LabelName': '/m/0dv5r'},\n",
              "      {'LabelName': '/m/0h8jyh6'},\n",
              "      {'LabelName': '/m/0hdln'},\n",
              "      {'LabelName': '/m/0lt4_'}]},\n",
              "    {'LabelName': '/m/083kb',\n",
              "     'Subcategory': [{'LabelName': '/m/01g3x7'},\n",
              "      {'LabelName': '/m/020kz'},\n",
              "      {'LabelName': '/m/02gzp'},\n",
              "      {'LabelName': '/m/04ctx'},\n",
              "      {'LabelName': '/m/06c54'},\n",
              "      {'LabelName': '/m/06nrc'},\n",
              "      {'LabelName': '/m/07cmd'},\n",
              "      {'LabelName': '/m/0c2jj'},\n",
              "      {'LabelName': '/m/0gxl3'},\n",
              "      {'LabelName': '/m/06y5r'},\n",
              "      {'LabelName': '/m/04ylt'},\n",
              "      {'LabelName': '/m/0ct4f'}]},\n",
              "    {'LabelName': '/m/01432t'},\n",
              "    {'LabelName': '/m/01b7fy'},\n",
              "    {'LabelName': '/m/01c648'},\n",
              "    {'LabelName': '/m/01m2v'},\n",
              "    {'LabelName': '/m/01m4t'},\n",
              "    {'LabelName': '/m/020lf'},\n",
              "    {'LabelName': '/m/02522'},\n",
              "    {'LabelName': '/m/03bbps'},\n",
              "    {'LabelName': '/m/03jbxj'},\n",
              "    {'LabelName': '/m/057cc'},\n",
              "    {'LabelName': '/m/07c52'},\n",
              "    {'LabelName': '/m/07cx4',\n",
              "     'Subcategory': [{'LabelName': '/m/050k8'}, {'LabelName': '/m/0h8lkj8'}]},\n",
              "    {'LabelName': '/m/0bh9flk'},\n",
              "    {'LabelName': '/m/0hg7b'},\n",
              "    {'LabelName': '/m/0mcx2'},\n",
              "    {'LabelName': '/m/0qjjc'}],\n",
              "   'Subcategory': [{'LabelName': '/m/02wg_p'},\n",
              "    {'LabelName': '/m/04h7h'},\n",
              "    {'LabelName': '/m/079cl'},\n",
              "    {'LabelName': '/m/0d5gx'},\n",
              "    {'LabelName': '/m/01fdzj'},\n",
              "    {'LabelName': '/m/03jm5'},\n",
              "    {'LabelName': '/m/021sj1'},\n",
              "    {'LabelName': '/m/0crjs'}]},\n",
              "  {'LabelName': '/m/0b_rs'},\n",
              "  {'LabelName': '/m/01g317',\n",
              "   'Part': [{'LabelName': '/m/02p0tk3',\n",
              "     'Part': [{'LabelName': '/m/014sv8'},\n",
              "      {'LabelName': '/m/016m2d'},\n",
              "      {'LabelName': '/m/04hgtk'},\n",
              "      {'LabelName': '/m/0dzct'},\n",
              "      {'LabelName': '/m/0283dt1'},\n",
              "      {'LabelName': '/m/039xj_'},\n",
              "      {'LabelName': '/m/0k0pj'},\n",
              "      {'LabelName': '/m/03q69'},\n",
              "      {'LabelName': '/m/0k65p'},\n",
              "      {'LabelName': '/m/031n1'},\n",
              "      {'LabelName': '/m/0dzf4'},\n",
              "      {'LabelName': '/m/035r7c'},\n",
              "      {'LabelName': '/m/015h_t'}]}],\n",
              "   'Subcategory': [{'LabelName': '/m/04yx4'},\n",
              "    {'LabelName': '/m/03bt1vf'},\n",
              "    {'LabelName': '/m/01bl7v'},\n",
              "    {'LabelName': '/m/05r655'}]},\n",
              "  {'LabelName': '/m/02wbm',\n",
              "   'Subcategory': [{'LabelName': '/m/01_bhs',\n",
              "     'Subcategory': [{'LabelName': '/m/01b9xk'}, {'LabelName': '/m/02y6n'}]},\n",
              "    {'LabelName': '/m/01dwsz'},\n",
              "    {'LabelName': '/m/01dwwc'},\n",
              "    {'LabelName': '/m/01j3zr'},\n",
              "    {'LabelName': '/m/01ww8y',\n",
              "     'Subcategory': [{'LabelName': '/m/01f91_'},\n",
              "      {'LabelName': '/m/01hrv5'},\n",
              "      {'LabelName': '/m/021mn'}]},\n",
              "    {'LabelName': '/m/0270h',\n",
              "     'Subcategory': [{'LabelName': '/m/01tcjp'},\n",
              "      {'LabelName': '/m/021mn'},\n",
              "      {'LabelName': '/m/0cxn2'},\n",
              "      {'LabelName': '/m/0fszt'},\n",
              "      {'LabelName': '/m/0gm28'}]},\n",
              "    {'LabelName': '/m/02g30s'},\n",
              "    {'LabelName': '/m/02xwb',\n",
              "     'Subcategory': [{'LabelName': '/m/014j1m'},\n",
              "      {'LabelName': '/m/0388q'},\n",
              "      {'LabelName': '/m/043nyj'},\n",
              "      {'LabelName': '/m/061_f'},\n",
              "      {'LabelName': '/m/07fbm7'},\n",
              "      {'LabelName': '/m/07j87'},\n",
              "      {'LabelName': '/m/09k_b'},\n",
              "      {'LabelName': '/m/09qck'},\n",
              "      {'LabelName': '/m/0cyhj_'},\n",
              "      {'LabelName': '/m/0dj6p'},\n",
              "      {'LabelName': '/m/0fldg'},\n",
              "      {'LabelName': '/m/0fp6w'},\n",
              "      {'LabelName': '/m/0hqkz'},\n",
              "      {'LabelName': '/m/0jwn_'},\n",
              "      {'LabelName': '/m/0kpqd'},\n",
              "      {'LabelName': '/m/0kpt_'}]},\n",
              "    {'LabelName': '/m/033cnk'},\n",
              "    {'LabelName': '/m/052lwg6',\n",
              "     'Subcategory': [{'LabelName': '/m/01f91_'},\n",
              "      {'LabelName': '/m/01fb_0'},\n",
              "      {'LabelName': '/m/01tcjp'},\n",
              "      {'LabelName': '/m/021mn'},\n",
              "      {'LabelName': '/m/09728'},\n",
              "      {'LabelName': '/m/0hnyx',\n",
              "       'Subcategory': [{'LabelName': '/m/0jy4k'},\n",
              "        {'LabelName': '/m/015wgc'},\n",
              "        {'LabelName': '/m/02zvsm'}]}]},\n",
              "    {'LabelName': '/m/052sf'},\n",
              "    {'LabelName': '/m/05z55'},\n",
              "    {'LabelName': '/m/0663v'},\n",
              "    {'LabelName': '/m/06nwz',\n",
              "     'Subcategory': [{'LabelName': '/m/09gys'},\n",
              "      {'LabelName': '/m/0fbdv',\n",
              "       'Subcategory': [{'LabelName': '/m/0_cp5'},\n",
              "        {'LabelName': '/m/0cjq5'},\n",
              "        {'LabelName': '/m/0ll1f78'},\n",
              "        {'LabelName': '/m/0n28_'}]}]},\n",
              "    {'LabelName': '/m/07crc'},\n",
              "    {'LabelName': '/m/07mcwg'},\n",
              "    {'LabelName': '/m/0f4s2w',\n",
              "     'Subcategory': [{'LabelName': '/m/015x4r'},\n",
              "      {'LabelName': '/m/015x5n'},\n",
              "      {'LabelName': '/m/047v4b'},\n",
              "      {'LabelName': '/m/05vtc'},\n",
              "      {'LabelName': '/m/07j87'},\n",
              "      {'LabelName': '/m/0cjs7'},\n",
              "      {'LabelName': '/m/0dv77',\n",
              "       'Subcategory': [{'LabelName': '/m/05zsy'}, {'LabelName': '/m/027pcv'}]},\n",
              "      {'LabelName': '/m/0fbw6'},\n",
              "      {'LabelName': '/m/0fj52s'},\n",
              "      {'LabelName': '/m/0grw1'},\n",
              "      {'LabelName': '/m/0hkxq'},\n",
              "      {'LabelName': '/m/0jg57'},\n",
              "      {'LabelName': '/m/02cvgx'}]},\n",
              "    {'LabelName': '/m/0fz0h'},\n",
              "    {'LabelName': '/m/0l515',\n",
              "     'Subcategory': [{'LabelName': '/m/0cdn1'}, {'LabelName': '/m/06pcq'}]},\n",
              "    {'LabelName': '/m/0284d',\n",
              "     'Subcategory': [{'LabelName': '/m/01nkt'}, {'LabelName': '/m/04zpv'}]},\n",
              "    {'LabelName': '/m/07030'}]},\n",
              "  {'LabelName': '/m/05s2s',\n",
              "   'Subcategory': [{'LabelName': '/m/03fp41'},\n",
              "    {'LabelName': '/m/07j7r',\n",
              "     'Subcategory': [{'LabelName': '/m/025nd'},\n",
              "      {'LabelName': '/m/0cdl1'},\n",
              "      {'LabelName': '/m/0cffdh'},\n",
              "      {'LabelName': '/m/0mw_6'}]},\n",
              "    {'LabelName': '/m/0c9ph5',\n",
              "     'Subcategory': [{'LabelName': '/m/04gth'},\n",
              "      {'LabelName': '/m/06m11'},\n",
              "      {'LabelName': '/m/0ftb8'},\n",
              "      {'LabelName': '/m/0jqgx'}]}]},\n",
              "  {'LabelName': '/m/07yv9',\n",
              "   'Subcategory': [{'LabelName': '/m/01prls',\n",
              "     'Part': [{'LabelName': '/m/08dz3q',\n",
              "       'Subcategory': [{'LabelName': '/m/01jfm_'},\n",
              "        {'LabelName': '/m/083wq'},\n",
              "        {'LabelName': '/m/0dkzw'},\n",
              "        {'LabelName': '/m/0h9mv'}]}],\n",
              "     'Subcategory': [{'LabelName': '/m/012n7d'},\n",
              "      {'LabelName': '/m/018p4k'},\n",
              "      {'LabelName': '/m/0199g', 'Part': [{'LabelName': '/m/01bqk0'}]},\n",
              "      {'LabelName': '/m/01bjv'},\n",
              "      {'LabelName': '/m/01x3jk'},\n",
              "      {'LabelName': '/m/0323sq'},\n",
              "      {'LabelName': '/m/04_sv'},\n",
              "      {'LabelName': '/m/076bq'},\n",
              "      {'LabelName': '/m/07cmd'},\n",
              "      {'LabelName': '/m/07jdr'},\n",
              "      {'LabelName': '/m/07r04'},\n",
              "      {'LabelName': '/m/0f6nr'},\n",
              "      {'LabelName': '/m/0k4j',\n",
              "       'Subcategory': [{'LabelName': '/m/01lcw4'}, {'LabelName': '/m/0h2r6'}]},\n",
              "      {'LabelName': '/m/0pg52'},\n",
              "      {'LabelName': '/m/0qmmr'}]},\n",
              "    {'LabelName': '/m/01rzcn',\n",
              "     'Subcategory': [{'LabelName': '/m/019jd',\n",
              "       'Subcategory': [{'LabelName': '/m/01btn'},\n",
              "        {'LabelName': '/m/02068x'},\n",
              "        {'LabelName': '/m/0ph39'}]},\n",
              "      {'LabelName': '/m/01xs3r'},\n",
              "      {'LabelName': '/m/074d1'}]},\n",
              "    {'LabelName': '/m/0k5j',\n",
              "     'Subcategory': [{'LabelName': '/m/09ct_'},\n",
              "      {'LabelName': '/m/0cmf2'},\n",
              "      {'LabelName': '/m/09rvcxw'}]}]},\n",
              "  {'LabelName': '/m/09j2d',\n",
              "   'Subcategory': [{'LabelName': '/m/01bfm9'},\n",
              "    {'LabelName': '/m/01d40f'},\n",
              "    {'LabelName': '/m/01gkx_'},\n",
              "    {'LabelName': '/m/01gmv2'},\n",
              "    {'LabelName': '/m/01krhy'},\n",
              "    {'LabelName': '/m/01n4qj'},\n",
              "    {'LabelName': '/m/01xygc'},\n",
              "    {'LabelName': '/m/01xyhv'},\n",
              "    {'LabelName': '/m/02dl1y',\n",
              "     'Subcategory': [{'LabelName': '/m/025rp__'},\n",
              "      {'LabelName': '/m/02fq_6'},\n",
              "      {'LabelName': '/m/02jfl0'},\n",
              "      {'LabelName': '/m/02wbtzl'}]},\n",
              "    {'LabelName': '/m/02h19r'},\n",
              "    {'LabelName': '/m/02wv6h6', 'Subcategory': [{'LabelName': '/m/01cmb2'}]},\n",
              "    {'LabelName': '/m/032b3c'},\n",
              "    {'LabelName': '/m/0463sg',\n",
              "     'Subcategory': [{'LabelName': '/m/0174n1',\n",
              "       'Subcategory': [{'LabelName': '/m/03grzl'}]},\n",
              "      {'LabelName': '/m/0176mf'},\n",
              "      {'LabelName': '/m/017ftj'},\n",
              "      {'LabelName': '/m/01krhy'},\n",
              "      {'LabelName': '/m/01llwg'},\n",
              "      {'LabelName': '/m/01nq26'},\n",
              "      {'LabelName': '/m/01r546'},\n",
              "      {'LabelName': '/m/01rkbr'},\n",
              "      {'LabelName': '/m/02_n6y'},\n",
              "      {'LabelName': '/m/02dl1y',\n",
              "       'Subcategory': [{'LabelName': '/m/025rp__'},\n",
              "        {'LabelName': '/m/02fq_6'},\n",
              "        {'LabelName': '/m/02jfl0'},\n",
              "        {'LabelName': '/m/02wbtzl'}]},\n",
              "      {'LabelName': '/m/02h19r'},\n",
              "      {'LabelName': '/m/080hkjn'},\n",
              "      {'LabelName': '/m/0gjkl'},\n",
              "      {'LabelName': '/m/0hnnb'},\n",
              "      {'LabelName': '/m/0jyfg'},\n",
              "      {'LabelName': '/m/0nl46'}]},\n",
              "    {'LabelName': '/m/04tn4x'},\n",
              "    {'LabelName': '/m/07mhn', 'Subcategory': [{'LabelName': '/m/0fly7'}]},\n",
              "    {'LabelName': '/m/09j5n',\n",
              "     'Subcategory': [{'LabelName': '/m/02p3w7d'},\n",
              "      {'LabelName': '/m/01b638'},\n",
              "      {'LabelName': '/m/06k2mb'},\n",
              "      {'LabelName': '/m/03nfch'}]},\n",
              "    {'LabelName': '/m/0h8mhzd'},\n",
              "    {'LabelName': '/m/0hf58v5',\n",
              "     'Subcategory': [{'LabelName': '/m/01940j'},\n",
              "      {'LabelName': '/m/01s55n'},\n",
              "      {'LabelName': '/m/0584n8'},\n",
              "      {'LabelName': '/m/080hkjn'}]},\n",
              "    {'LabelName': '/m/0zvk5',\n",
              "     'Subcategory': [{'LabelName': '/m/03p3bw'},\n",
              "      {'LabelName': '/m/07qxg_'}]}]},\n",
              "  {'LabelName': '/m/0jbk',\n",
              "   'Subcategory': [{'LabelName': '/m/015p6',\n",
              "     'Subcategory': [{'LabelName': '/m/012074'},\n",
              "      {'LabelName': '/m/01dy8n'},\n",
              "      {'LabelName': '/m/01f8m5'},\n",
              "      {'LabelName': '/m/05n4y'},\n",
              "      {'LabelName': '/m/05z6w'},\n",
              "      {'LabelName': '/m/06j2d'},\n",
              "      {'LabelName': '/m/09b5t'},\n",
              "      {'LabelName': '/m/09csl'},\n",
              "      {'LabelName': '/m/09d5_'},\n",
              "      {'LabelName': '/m/09ddx'},\n",
              "      {'LabelName': '/m/0ccs93'},\n",
              "      {'LabelName': '/m/0dbvp'},\n",
              "      {'LabelName': '/m/0dftk'},\n",
              "      {'LabelName': '/m/0f6wt'},\n",
              "      {'LabelName': '/m/0gv1x'},\n",
              "      {'LabelName': '/m/0h23m'},\n",
              "      {'LabelName': '/m/0jly1'}]},\n",
              "    {'LabelName': '/m/03xxp',\n",
              "     'Subcategory': [{'LabelName': '/m/0175cv'},\n",
              "      {'LabelName': '/m/019h78'},\n",
              "      {'LabelName': '/m/03hl4l9',\n",
              "       'Subcategory': [{'LabelName': '/m/01h8tj'},\n",
              "        {'LabelName': '/m/035vxb'},\n",
              "        {'LabelName': '/m/09gys'},\n",
              "        {'LabelName': '/m/0cjq5'},\n",
              "        {'LabelName': '/m/0d8zb'},\n",
              "        {'LabelName': '/m/0ll1f78'},\n",
              "        {'LabelName': '/m/0n28_'}]},\n",
              "      {'LabelName': '/m/03vt0',\n",
              "       'Subcategory': [{'LabelName': '/m/01h3n'},\n",
              "        {'LabelName': '/m/020jm', 'Subcategory': [{'LabelName': '/m/0gj37'}]},\n",
              "        {'LabelName': '/m/0_k2'},\n",
              "        {'LabelName': '/m/0d_2m',\n",
              "         'Subcategory': [{'LabelName': '/m/0cydv'},\n",
              "          {'LabelName': '/m/0cyf8'}]},\n",
              "        {'LabelName': '/m/0ft9s'}]},\n",
              "      {'LabelName': '/m/0755b'},\n",
              "      {'LabelName': '/m/084hf'},\n",
              "      {'LabelName': '/m/09kmb'},\n",
              "      {'LabelName': '/m/0_cp5'},\n",
              "      {'LabelName': '/m/0f9_l'}]},\n",
              "    {'LabelName': '/m/04rky',\n",
              "     'Subcategory': [{'LabelName': '/m/01h44'},\n",
              "      {'LabelName': '/m/01lrl',\n",
              "       'Subcategory': [{'LabelName': '/m/01dws',\n",
              "         'Subcategory': [{'LabelName': '/m/01dxs'},\n",
              "          {'LabelName': '/m/03bj1'},\n",
              "          {'LabelName': '/m/0633h'},\n",
              "          {'LabelName': '/m/0kmg4'}]},\n",
              "        {'LabelName': '/m/01yrx'},\n",
              "        {'LabelName': '/m/0306r'},\n",
              "        {'LabelName': '/m/0449p'},\n",
              "        {'LabelName': '/m/04g2r'},\n",
              "        {'LabelName': '/m/06l9r'},\n",
              "        {'LabelName': '/m/07dm6'},\n",
              "        {'LabelName': '/m/096mb'},\n",
              "        {'LabelName': '/m/0bt9lr'},\n",
              "        {'LabelName': '/m/0c29q'},\n",
              "        {'LabelName': '/m/0cd4d'},\n",
              "        {'LabelName': '/m/0cn6p'},\n",
              "        {'LabelName': '/m/0dq75'}]},\n",
              "      {'LabelName': '/m/01x_v'},\n",
              "      {'LabelName': '/m/01xq0k1'},\n",
              "      {'LabelName': '/m/03bk1'},\n",
              "      {'LabelName': '/m/03d443'},\n",
              "      {'LabelName': '/m/03fwl'},\n",
              "      {'LabelName': '/m/03k3r'},\n",
              "      {'LabelName': '/m/03qrc'},\n",
              "      {'LabelName': '/m/04c0y'},\n",
              "      {'LabelName': '/m/04cp_'},\n",
              "      {'LabelName': '/m/04rmv'},\n",
              "      {'LabelName': '/m/068zj'},\n",
              "      {'LabelName': '/m/06mf6'},\n",
              "      {'LabelName': '/m/071qp'},\n",
              "      {'LabelName': '/m/07bgp'},\n",
              "      {'LabelName': '/m/0898b'},\n",
              "      {'LabelName': '/m/08pbxl'},\n",
              "      {'LabelName': '/m/09f20'},\n",
              "      {'LabelName': '/m/09kx5'},\n",
              "      {'LabelName': '/m/0bwd_0j'},\n",
              "      {'LabelName': '/m/0c568'},\n",
              "      {'LabelName': '/m/0cl4p'},\n",
              "      {'LabelName': '/m/0cnyhnx'},\n",
              "      {'LabelName': '/m/0czz2'},\n",
              "      {'LabelName': '/m/0dbzx'},\n",
              "      {'LabelName': '/m/0gd2v',\n",
              "       'Subcategory': [{'LabelName': '/m/02hj4'},\n",
              "        {'LabelName': '/m/084zz'},\n",
              "        {'LabelName': '/m/0gd36'},\n",
              "        {'LabelName': '/m/02l8p9'}]},\n",
              "      {'LabelName': '/m/0km7z'},\n",
              "      {'LabelName': '/m/0pcr'},\n",
              "      {'LabelName': '/m/0xfy'}]},\n",
              "    {'LabelName': '/m/06bt6',\n",
              "     'Subcategory': [{'LabelName': '/m/029tx'},\n",
              "      {'LabelName': '/m/04m9y'},\n",
              "      {'LabelName': '/m/078jl'},\n",
              "      {'LabelName': '/m/09dzg',\n",
              "       'Subcategory': [{'LabelName': '/m/011k07'},\n",
              "        {'LabelName': '/m/0120dh'}]},\n",
              "      {'LabelName': '/m/09f_2'},\n",
              "      {'LabelName': '/m/09ld4'}]},\n",
              "    {'LabelName': '/m/0ch_cf',\n",
              "     'Subcategory': [{'LabelName': '/m/03fj2'},\n",
              "      {'LabelName': '/m/0by6g'},\n",
              "      {'LabelName': '/m/0m53l'},\n",
              "      {'LabelName': '/m/0nybt'}]},\n",
              "    {'LabelName': '/m/0fbdv',\n",
              "     'Subcategory': [{'LabelName': '/m/0_cp5'},\n",
              "      {'LabelName': '/m/0cjq5'},\n",
              "      {'LabelName': '/m/0ll1f78'},\n",
              "      {'LabelName': '/m/0n28_'}]}]},\n",
              "  {'LabelName': '/m/014trl',\n",
              "   'Subcategory': [{'LabelName': '/m/02xb7qb'},\n",
              "    {'LabelName': '/m/05w9t9'},\n",
              "    {'LabelName': '/m/06c7f7'},\n",
              "    {'LabelName': '/m/0p833'}]},\n",
              "  {'LabelName': '/m/02w3_ws',\n",
              "   'Subcategory': [{'LabelName': '/m/012xff'},\n",
              "    {'LabelName': '/m/017ftj'},\n",
              "    {'LabelName': '/m/02_n6y'},\n",
              "    {'LabelName': '/m/05441v'},\n",
              "    {'LabelName': '/m/08p92x'},\n",
              "    {'LabelName': '/m/0f571'},\n",
              "    {'LabelName': '/m/0jyfg'},\n",
              "    {'LabelName': '/m/0qmmr'}]},\n",
              "  {'LabelName': '/m/01xgg_',\n",
              "   'Subcategory': [{'LabelName': '/m/012ysf'},\n",
              "    {'LabelName': '/m/02lbcq'},\n",
              "    {'LabelName': '/m/073g6'},\n",
              "    {'LabelName': '/m/0j496'}]},\n",
              "  {'LabelName': '/m/04szw',\n",
              "   'Subcategory': [{'LabelName': '/m/013y1f'},\n",
              "    {'LabelName': '/m/018j2'},\n",
              "    {'LabelName': '/m/01xqw'},\n",
              "    {'LabelName': '/m/026t6'},\n",
              "    {'LabelName': '/m/0319l'},\n",
              "    {'LabelName': '/m/0342h'},\n",
              "    {'LabelName': '/m/03m5k'},\n",
              "    {'LabelName': '/m/03q5t'},\n",
              "    {'LabelName': '/m/03qjg'},\n",
              "    {'LabelName': '/m/057cc'},\n",
              "    {'LabelName': '/m/05kms'},\n",
              "    {'LabelName': '/m/05r5c'},\n",
              "    {'LabelName': '/m/06ncr'},\n",
              "    {'LabelName': '/m/07c6l'},\n",
              "    {'LabelName': '/m/07gql'},\n",
              "    {'LabelName': '/m/07y_7'},\n",
              "    {'LabelName': '/m/0f8s22'},\n",
              "    {'LabelName': '/m/0l14j_'},\n",
              "    {'LabelName': '/m/0mkg'},\n",
              "    {'LabelName': '/m/0xzly'}]},\n",
              "  {'LabelName': '/m/05y5lj',\n",
              "   'Subcategory': [{'LabelName': '/m/014y4n'},\n",
              "    {'LabelName': '/m/018xm',\n",
              "     'Subcategory': [{'LabelName': '/m/01226z'},\n",
              "      {'LabelName': '/m/02ctlc'},\n",
              "      {'LabelName': '/m/02rgn06'},\n",
              "      {'LabelName': '/m/05ctyq'},\n",
              "      {'LabelName': '/m/0wdt60w'}]},\n",
              "    {'LabelName': '/m/0199g', 'Part': [{'LabelName': '/m/01bqk0'}]},\n",
              "    {'LabelName': '/m/019w40'},\n",
              "    {'LabelName': '/m/01g3x7'},\n",
              "    {'LabelName': '/m/0268lbt'},\n",
              "    {'LabelName': '/m/02p3w7d'},\n",
              "    {'LabelName': '/m/02wmf'},\n",
              "    {'LabelName': '/m/03g8mr'},\n",
              "    {'LabelName': '/m/03grzl'},\n",
              "    {'LabelName': '/m/0420v5'},\n",
              "    {'LabelName': '/m/044r5d'},\n",
              "    {'LabelName': '/m/054xkw'},\n",
              "    {'LabelName': '/m/057p5t'},\n",
              "    {'LabelName': '/m/06__v'},\n",
              "    {'LabelName': '/m/06_fw'},\n",
              "    {'LabelName': '/m/071p9'},\n",
              "    {'LabelName': '/m/07pj7bq'},\n",
              "    {'LabelName': '/m/04h8sr'},\n",
              "    {'LabelName': '/m/03kt2w'},\n",
              "    {'LabelName': '/m/030610'},\n",
              "    {'LabelName': '/m/076lb9'},\n",
              "    {'LabelName': '/m/03wym'},\n",
              "    {'LabelName': '/m/0cqn2'},\n",
              "    {'LabelName': '/m/0cyfs'},\n",
              "    {'LabelName': '/m/0dv9c',\n",
              "     'Subcategory': [{'LabelName': '/m/0h8my_4'},\n",
              "      {'LabelName': '/m/05_5p_0'}]},\n",
              "    {'LabelName': '/m/0l3ms'},\n",
              "    {'LabelName': '/m/0zvk5',\n",
              "     'Subcategory': [{'LabelName': '/m/03p3bw'}, {'LabelName': '/m/07qxg_'}]},\n",
              "    {'LabelName': '/m/04p0qw'}]},\n",
              "  {'LabelName': '/m/07k1x',\n",
              "   'Subcategory': [{'LabelName': '/m/011q46kg',\n",
              "     'Subcategory': [{'LabelName': '/m/02jnhm'},\n",
              "      {'LabelName': '/m/02zn6n'},\n",
              "      {'LabelName': '/m/04dr76w'},\n",
              "      {'LabelName': '/m/07kng9'},\n",
              "      {'LabelName': '/m/08hvt4'},\n",
              "      {'LabelName': '/m/0bjyj5'},\n",
              "      {'LabelName': '/m/0d20w4'},\n",
              "      {'LabelName': '/m/0fm3zh'}]},\n",
              "    {'LabelName': '/m/012w5l'},\n",
              "    {'LabelName': '/m/012xff'},\n",
              "    {'LabelName': '/m/01bms0'},\n",
              "    {'LabelName': '/m/01d380'},\n",
              "    {'LabelName': '/m/01j4z9'},\n",
              "    {'LabelName': '/m/01j5ks'},\n",
              "    {'LabelName': '/m/01kb5b'},\n",
              "    {'LabelName': '/m/01lsmm'},\n",
              "    {'LabelName': '/m/02bm9n'},\n",
              "    {'LabelName': '/m/03hlz0c',\n",
              "     'Subcategory': [{'LabelName': '/m/01_5g'},\n",
              "      {'LabelName': '/m/027rl48'},\n",
              "      {'LabelName': '/m/02d1br'},\n",
              "      {'LabelName': '/m/02mqfb'},\n",
              "      {'LabelName': '/m/02pdsw'},\n",
              "      {'LabelName': '/m/02vwcm'},\n",
              "      {'LabelName': '/m/03v5tg'},\n",
              "      {'LabelName': '/m/04ctx'},\n",
              "      {'LabelName': '/m/04f5ws'},\n",
              "      {'LabelName': '/m/07v9_z'},\n",
              "      {'LabelName': '/m/08ks85'},\n",
              "      {'LabelName': '/m/0cmx8'},\n",
              "      {'LabelName': '/m/0dt3t'}]},\n",
              "    {'LabelName': '/m/03l9g'},\n",
              "    {'LabelName': '/m/03txqz'},\n",
              "    {'LabelName': '/m/04vv5k'},\n",
              "    {'LabelName': '/m/05bm6'},\n",
              "    {'LabelName': '/m/073bxn'},\n",
              "    {'LabelName': '/m/07dd4'},\n",
              "    {'LabelName': '/m/0_dqb'},\n",
              "    {'LabelName': '/m/0c2jj'},\n",
              "    {'LabelName': '/m/0dv5r'},\n",
              "    {'LabelName': '/m/0h8jyh6'},\n",
              "    {'LabelName': '/m/0hdln'},\n",
              "    {'LabelName': '/m/0lt4_'}]},\n",
              "  {'LabelName': '/m/083kb',\n",
              "   'Subcategory': [{'LabelName': '/m/01g3x7'},\n",
              "    {'LabelName': '/m/020kz'},\n",
              "    {'LabelName': '/m/02gzp'},\n",
              "    {'LabelName': '/m/04ctx'},\n",
              "    {'LabelName': '/m/06c54'},\n",
              "    {'LabelName': '/m/06nrc'},\n",
              "    {'LabelName': '/m/07cmd'},\n",
              "    {'LabelName': '/m/0c2jj'},\n",
              "    {'LabelName': '/m/0gxl3'},\n",
              "    {'LabelName': '/m/06y5r'},\n",
              "    {'LabelName': '/m/04ylt'},\n",
              "    {'LabelName': '/m/0ct4f'}]},\n",
              "  {'LabelName': '/m/01432t'},\n",
              "  {'LabelName': '/m/01b7fy'},\n",
              "  {'LabelName': '/m/01c648'},\n",
              "  {'LabelName': '/m/01m2v'},\n",
              "  {'LabelName': '/m/01m4t'},\n",
              "  {'LabelName': '/m/020lf'},\n",
              "  {'LabelName': '/m/02522'},\n",
              "  {'LabelName': '/m/03bbps'},\n",
              "  {'LabelName': '/m/03jbxj'},\n",
              "  {'LabelName': '/m/07c52'},\n",
              "  {'LabelName': '/m/07cx4',\n",
              "   'Subcategory': [{'LabelName': '/m/050k8'}, {'LabelName': '/m/0h8lkj8'}]},\n",
              "  {'LabelName': '/m/0bh9flk'},\n",
              "  {'LabelName': '/m/0hg7b'},\n",
              "  {'LabelName': '/m/0mcx2'},\n",
              "  {'LabelName': '/m/0qjjc'},\n",
              "  {'LabelName': '/m/0271t',\n",
              "   'Subcategory': [{'LabelName': '/m/01599'},\n",
              "    {'LabelName': '/m/024g6'},\n",
              "    {'LabelName': '/m/02vqfm'},\n",
              "    {'LabelName': '/m/01z1kdw'},\n",
              "    {'LabelName': '/m/07clx'},\n",
              "    {'LabelName': '/m/081qc'}]},\n",
              "  {'LabelName': '/m/01bqk0'},\n",
              "  {'LabelName': '/m/03c7gz'},\n",
              "  {'LabelName': '/m/02dgv', 'Part': [{'LabelName': '/m/03c7gz'}]},\n",
              "  {'LabelName': '/m/0d4v4'},\n",
              "  {'LabelName': '/m/01lynh'},\n",
              "  {'LabelName': '/m/04m6gz'},\n",
              "  {'LabelName': '/m/014sv8'},\n",
              "  {'LabelName': '/m/016m2d'},\n",
              "  {'LabelName': '/m/04hgtk'},\n",
              "  {'LabelName': '/m/0dzct'},\n",
              "  {'LabelName': '/m/0283dt1'},\n",
              "  {'LabelName': '/m/039xj_'},\n",
              "  {'LabelName': '/m/0k0pj'},\n",
              "  {'LabelName': '/m/03q69'},\n",
              "  {'LabelName': '/m/0k65p'},\n",
              "  {'LabelName': '/m/031n1'},\n",
              "  {'LabelName': '/m/0dzf4'},\n",
              "  {'LabelName': '/m/035r7c'},\n",
              "  {'LabelName': '/m/015h_t'},\n",
              "  {'LabelName': '/m/02p0tk3',\n",
              "   'Part': [{'LabelName': '/m/014sv8'},\n",
              "    {'LabelName': '/m/016m2d'},\n",
              "    {'LabelName': '/m/04hgtk'},\n",
              "    {'LabelName': '/m/0dzct'},\n",
              "    {'LabelName': '/m/0283dt1'},\n",
              "    {'LabelName': '/m/039xj_'},\n",
              "    {'LabelName': '/m/0k0pj'},\n",
              "    {'LabelName': '/m/03q69'},\n",
              "    {'LabelName': '/m/0k65p'},\n",
              "    {'LabelName': '/m/031n1'},\n",
              "    {'LabelName': '/m/0dzf4'},\n",
              "    {'LabelName': '/m/035r7c'},\n",
              "    {'LabelName': '/m/015h_t'}]},\n",
              "  {'LabelName': '/m/08dz3q',\n",
              "   'Subcategory': [{'LabelName': '/m/01jfm_'},\n",
              "    {'LabelName': '/m/083wq'},\n",
              "    {'LabelName': '/m/0dkzw'},\n",
              "    {'LabelName': '/m/0h9mv'}]},\n",
              "  {'LabelName': '/m/0djtd'}]}"
            ]
          },
          "metadata": {
            "tags": []
          },
          "execution_count": 121
        }
      ]
    },
    {
      "cell_type": "code",
      "metadata": {
        "id": "9YxoceEpG60A",
        "colab_type": "code",
        "colab": {}
      },
      "source": [
        ""
      ],
      "execution_count": null,
      "outputs": []
    }
  ]
}