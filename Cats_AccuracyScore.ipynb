{
  "nbformat": 4,
  "nbformat_minor": 0,
  "metadata": {
    "kernelspec": {
      "display_name": "Python 3",
      "language": "python",
      "name": "python3"
    },
    "language_info": {
      "codemirror_mode": {
        "name": "ipython",
        "version": 3
      },
      "file_extension": ".py",
      "mimetype": "text/x-python",
      "name": "python",
      "nbconvert_exporter": "python",
      "pygments_lexer": "ipython3",
      "version": "3.6.8"
    },
    "colab": {
      "name": "Cats_AccuracyScore.ipynb",
      "provenance": []
    }
  },
  "cells": [
    {
      "cell_type": "code",
      "metadata": {
        "id": "uxlwJTciAVLf",
        "colab_type": "code",
        "colab": {},
        "outputId": "7914fa3c-d598-4220-ac14-4f1977d91097"
      },
      "source": [
        "import import_ipynb\n",
        "from data603 import HDFS\n",
        "\n",
        "httpdfs = HDFS.get_httpdfs()\n",
        "httpdfs.list('/data/keras_models')"
      ],
      "execution_count": null,
      "outputs": [
        {
          "output_type": "stream",
          "text": [
            "importing Jupyter notebook from /scratch/data603/yk98337/data603/HDFS.ipynb\n"
          ],
          "name": "stdout"
        },
        {
          "output_type": "execute_result",
          "data": {
            "text/plain": [
              "['densenet',\n",
              " 'efficientnet',\n",
              " 'inception_resnet_v2',\n",
              " 'inception_v3',\n",
              " 'mobilenet',\n",
              " 'mobilenet_v2',\n",
              " 'mobilenet_v3',\n",
              " 'nasnet',\n",
              " 'resnet',\n",
              " 'vgg16',\n",
              " 'vgg19',\n",
              " 'xception']"
            ]
          },
          "metadata": {
            "tags": []
          },
          "execution_count": 2
        }
      ]
    },
    {
      "cell_type": "markdown",
      "metadata": {
        "id": "QRE9LqaLAVLs",
        "colab_type": "text"
      },
      "source": [
        "# Predicting the accuracy of model for different labels\n",
        "We took MobileNet as our pre-trained model because they have reduced size of the network which makes them to run faster on image datasets."
      ]
    },
    {
      "cell_type": "code",
      "metadata": {
        "id": "prNaGZmPAVLw",
        "colab_type": "code",
        "colab": {},
        "outputId": "3de6a616-4fc8-4890-fa85-930c09652e9a"
      },
      "source": [
        "import import_ipynb\n",
        "from data603 import SparkLauncher\n",
        "\n",
        "# get a configuration object\n",
        "conf = SparkLauncher.get_spark_conf()\n",
        "\n",
        "# add a file to the configuration that will get copied to all the nodes on the cluster\n",
        "conf.set('spark.yarn.dist.files', './keras_data/mobilenet_1_0_224_tf.h5')\n",
        "\n",
        "# launch the cluster using the configuration\n",
        "spark = SparkLauncher.get_spark_session(pack_venv = False, conf = conf)"
      ],
      "execution_count": null,
      "outputs": [
        {
          "output_type": "stream",
          "text": [
            "importing Jupyter notebook from /scratch/data603/yk98337/data603/SparkLauncher.ipynb\n",
            "Creating Spark Configuration\n",
            "Creating Spark Configuration\n",
            "Setting Environment Variables\n",
            "Creating Spark Session: yk98337_data603_spark_session\n"
          ],
          "name": "stdout"
        }
      ]
    },
    {
      "cell_type": "code",
      "metadata": {
        "id": "ieOf4vuhAVL7",
        "colab_type": "code",
        "colab": {}
      },
      "source": [
        "cats = spark.read.parquet('/user/yk98337/land_mammals.parquet')"
      ],
      "execution_count": null,
      "outputs": []
    },
    {
      "cell_type": "code",
      "metadata": {
        "id": "Mm9HI7jfAVME",
        "colab_type": "code",
        "colab": {}
      },
      "source": [
        "cats = cats.where(cats['Label'] == 'Lion')"
      ],
      "execution_count": null,
      "outputs": []
    },
    {
      "cell_type": "markdown",
      "metadata": {
        "id": "elqHCrrWAVMM",
        "colab_type": "text"
      },
      "source": [
        "Loading the model for predictions"
      ]
    },
    {
      "cell_type": "code",
      "metadata": {
        "id": "BqQ7aGchAVMO",
        "colab_type": "code",
        "colab": {}
      },
      "source": [
        "def evaluate_chip(chip_data):\n",
        "    import io\n",
        "    import os\n",
        "    from tensorflow.keras.applications.mobilenet import MobileNet\n",
        "    from tensorflow.keras.applications.mobilenet import preprocess_input\n",
        "    from tensorflow.keras.applications.mobilenet import decode_predictions\n",
        "    from tensorflow.keras.preprocessing.image import load_img\n",
        "    from tensorflow.keras.preprocessing.image import img_to_array\n",
        "\n",
        "    # Load the image\n",
        "    img = load_img(io.BytesIO(chip_data), target_size = (224,224))\n",
        "\n",
        "    # Prepare Image\n",
        "    image = img_to_array(img)\n",
        "    image = image.reshape((1, image.shape[0], image.shape[1], image.shape[2]))\n",
        "    image = preprocess_input(image)\n",
        "\n",
        "    # Load Model Data\n",
        "    model = MobileNet(weights = f'{os.getcwd()}/mobilenet_1_0_224_tf.h5',\n",
        "                 include_top = True,\n",
        "                 alpha = 1.0)\n",
        "    \n",
        "    # Run prediction\n",
        "    yhat = model.predict(image)\n",
        "\n",
        "    # Decode Predictions\n",
        "    label = decode_predictions(yhat)\n",
        "    label = label[0][0]\n",
        "\n",
        "    ret = [label[1], float(label[2])]   \n",
        "\n",
        "    return ret"
      ],
      "execution_count": null,
      "outputs": []
    },
    {
      "cell_type": "code",
      "metadata": {
        "id": "Y1Ub7p9xAVMU",
        "colab_type": "code",
        "colab": {}
      },
      "source": [
        "# make a UDF\n",
        "from pyspark.sql.types import *\n",
        "from pyspark.sql.functions import udf\n",
        "\n",
        "schema = ArrayType(StringType())\n",
        "\n",
        "udf_evaluate_chip = udf(evaluate_chip, schema)\n"
      ],
      "execution_count": null,
      "outputs": []
    },
    {
      "cell_type": "markdown",
      "metadata": {
        "id": "QKH1okWsAVMZ",
        "colab_type": "raw"
      },
      "source": [
        "from sklearn.metrics import accuracy_score\n",
        "cat_scores = []\n",
        "for i in ['Lion','Tiger','Cheetah','Lynx','Leopard']:\n",
        "    cat = cat.where(cat['Label'] == i).withColumn(\"prediction\", udf_evaluate_chip(\"chip_data\"))\n",
        "    cat = cat.select('ImageID','Label','chip_data',cat.prediction[0],cat.prediction[1])\n",
        "    cat = cat.withColumnRenamed('prediction[0]','predicted_label')\n",
        "    cat = cat.withColumnRenamed('prediction[1]','predicted_score')\n",
        "    preds = cat.select('predicted_label','Label').toPandas()\n",
        "    preds['Label'] = preds['Label'].str.lower()\n",
        "    cat_scores.append(accuracy_score(preds['predicted_label'],preds['Label']))"
      ]
    },
    {
      "cell_type": "code",
      "metadata": {
        "id": "_NB3EyhUAVMa",
        "colab_type": "code",
        "colab": {}
      },
      "source": [
        "# get rid of the original image data\n",
        "cat = cat.drop('Data')\n",
        "\n",
        "# evaluate image chips\n",
        "cats = cats.withColumn(\"prediction\", udf_evaluate_chip(\"chip_data\"))"
      ],
      "execution_count": null,
      "outputs": []
    },
    {
      "cell_type": "code",
      "metadata": {
        "id": "M1IOuvdeAVMe",
        "colab_type": "code",
        "colab": {},
        "outputId": "c1c4e848-eb9c-4dbe-cc8f-f8bbc04388c9"
      },
      "source": [
        "cats.select('prediction').show(5)"
      ],
      "execution_count": null,
      "outputs": [
        {
          "output_type": "stream",
          "text": [
            "+--------------------+\n",
            "|          prediction|\n",
            "+--------------------+\n",
            "|[French_bulldog, ...|\n",
            "|[hen-of-the-woods...|\n",
            "|[lion, 0.99974662...|\n",
            "|[lion, 0.50911587...|\n",
            "|[Siamese_cat, 0.2...|\n",
            "+--------------------+\n",
            "only showing top 5 rows\n",
            "\n"
          ],
          "name": "stdout"
        }
      ]
    },
    {
      "cell_type": "markdown",
      "metadata": {
        "id": "RvNxr7u1AVMh",
        "colab_type": "text"
      },
      "source": [
        "Extracting the accuracy score for each label"
      ]
    },
    {
      "cell_type": "code",
      "metadata": {
        "id": "TLk_lK_zAVMi",
        "colab_type": "code",
        "colab": {}
      },
      "source": [
        "cat = cat.select('ImageID','Label','chip_data',cats.prediction[0],cats.prediction[1])\n",
        "cat = cat.withColumnRenamed('prediction[0]','predicted_label')\n",
        "cat = cat.withColumnRenamed('prediction[1]','predicted_score')"
      ],
      "execution_count": null,
      "outputs": []
    },
    {
      "cell_type": "code",
      "metadata": {
        "id": "73LXPnQIAVMl",
        "colab_type": "code",
        "colab": {}
      },
      "source": [
        "import pyspark.sql.functions as F\n",
        "cat = cat.withColumn('Label',F.lower(F.col('Label')))"
      ],
      "execution_count": null,
      "outputs": []
    },
    {
      "cell_type": "code",
      "metadata": {
        "id": "piJF3cL9AVMr",
        "colab_type": "code",
        "colab": {}
      },
      "source": [
        "preds_cat = cat.select('predicted_label','Label').toPandas()"
      ],
      "execution_count": null,
      "outputs": []
    },
    {
      "cell_type": "code",
      "metadata": {
        "id": "HyT5RtasAVMu",
        "colab_type": "code",
        "colab": {}
      },
      "source": [
        "from sklearn.metrics import accuracy_score\n",
        "lion_ac = accuracy_score(preds_cat['predicted_label'],preds_cat['Label'])"
      ],
      "execution_count": null,
      "outputs": []
    },
    {
      "cell_type": "code",
      "metadata": {
        "id": "wsdIi-92AVMx",
        "colab_type": "code",
        "colab": {},
        "outputId": "fbc50c6a-af28-4c8d-bffd-995c8d82469f"
      },
      "source": [
        "lion_ac"
      ],
      "execution_count": null,
      "outputs": [
        {
          "output_type": "execute_result",
          "data": {
            "text/plain": [
              "0.5683030949839915"
            ]
          },
          "metadata": {
            "tags": []
          },
          "execution_count": 13
        }
      ]
    },
    {
      "cell_type": "code",
      "metadata": {
        "id": "ST408i80AVM0",
        "colab_type": "code",
        "colab": {}
      },
      "source": [
        "tiger = cats.where(cats['Label'] == 'Tiger')"
      ],
      "execution_count": null,
      "outputs": []
    },
    {
      "cell_type": "code",
      "metadata": {
        "id": "X5ec3q_qAVM3",
        "colab_type": "code",
        "colab": {}
      },
      "source": [
        "tiger = tiger.withColumn(\"prediction\", udf_evaluate_chip(\"chip_data\"))"
      ],
      "execution_count": null,
      "outputs": []
    },
    {
      "cell_type": "code",
      "metadata": {
        "id": "enbgukzSAVM6",
        "colab_type": "code",
        "colab": {}
      },
      "source": [
        "tiger = tiger.select('ImageID','Label','chip_data',tiger.prediction[0],tiger.prediction[1])\n",
        "tiger = tiger.withColumnRenamed('prediction[0]','predicted_label')\n",
        "tiger = tiger.withColumnRenamed('prediction[1]','predicted_score')"
      ],
      "execution_count": null,
      "outputs": []
    },
    {
      "cell_type": "code",
      "metadata": {
        "id": "n7V-PsZsAVM9",
        "colab_type": "code",
        "colab": {}
      },
      "source": [
        "tiger = tiger.withColumn('Label',F.lower(F.col('Label')))\n",
        "preds_tiger = tiger.select('predicted_label','Label').toPandas()"
      ],
      "execution_count": null,
      "outputs": []
    },
    {
      "cell_type": "code",
      "metadata": {
        "id": "vLK26TTPAVNB",
        "colab_type": "code",
        "colab": {},
        "outputId": "503f8b73-7a4c-4eca-c6a2-fb711d2adbfc"
      },
      "source": [
        "tiger_ac = accuracy_score(preds_tiger['predicted_label'],preds_tiger['Label'])\n",
        "tiger_ac"
      ],
      "execution_count": null,
      "outputs": [
        {
          "output_type": "execute_result",
          "data": {
            "text/plain": [
              "0.7672349888806523"
            ]
          },
          "metadata": {
            "tags": []
          },
          "execution_count": 45
        }
      ]
    },
    {
      "cell_type": "code",
      "metadata": {
        "id": "-3nAiDXlAVNE",
        "colab_type": "code",
        "colab": {}
      },
      "source": [
        "cheetah = cats.where(cats['Label'] == 'Cheetah')"
      ],
      "execution_count": null,
      "outputs": []
    },
    {
      "cell_type": "code",
      "metadata": {
        "id": "BB6pZffIAVNH",
        "colab_type": "code",
        "colab": {}
      },
      "source": [
        "cheetah = cheetah.withColumn(\"prediction\", udf_evaluate_chip(\"chip_data\"))"
      ],
      "execution_count": null,
      "outputs": []
    },
    {
      "cell_type": "code",
      "metadata": {
        "id": "xnSaeyv3AVNK",
        "colab_type": "code",
        "colab": {}
      },
      "source": [
        "cheetah = cheetah.select('ImageID','Label','chip_data',cheetah.prediction[0],cheetah.prediction[1])\n",
        "cheetah = cheetah.withColumnRenamed('prediction[0]','predicted_label')\n",
        "cheetah = cheetah.withColumnRenamed('prediction[1]','predicted_score')"
      ],
      "execution_count": null,
      "outputs": []
    },
    {
      "cell_type": "code",
      "metadata": {
        "id": "xV3Sjyt4AVNM",
        "colab_type": "code",
        "colab": {}
      },
      "source": [
        "cheetah = cheetah.withColumn('Label',F.lower(F.col('Label')))\n",
        "preds_cheetah = cheetah.select('predicted_label','Label').toPandas()"
      ],
      "execution_count": null,
      "outputs": []
    },
    {
      "cell_type": "code",
      "metadata": {
        "id": "3Ae8yiSQAVNQ",
        "colab_type": "code",
        "colab": {},
        "outputId": "09f6efc2-8160-4716-ec81-26d95b28eaa7"
      },
      "source": [
        "cheetah_ac = accuracy_score(preds_cheetah['predicted_label'],preds_cheetah['Label'])\n",
        "cheetah_ac"
      ],
      "execution_count": null,
      "outputs": [
        {
          "output_type": "execute_result",
          "data": {
            "text/plain": [
              "0.5886524822695035"
            ]
          },
          "metadata": {
            "tags": []
          },
          "execution_count": 50
        }
      ]
    },
    {
      "cell_type": "code",
      "metadata": {
        "id": "ELy-kh9KAVNU",
        "colab_type": "code",
        "colab": {}
      },
      "source": [
        "leopard = cats.where(cats['Label'] == 'Leopard')"
      ],
      "execution_count": null,
      "outputs": []
    },
    {
      "cell_type": "code",
      "metadata": {
        "id": "GqcIGB1aAVNY",
        "colab_type": "code",
        "colab": {}
      },
      "source": [
        "leopard = leopard.withColumn(\"prediction\", udf_evaluate_chip(\"chip_data\"))"
      ],
      "execution_count": null,
      "outputs": []
    },
    {
      "cell_type": "code",
      "metadata": {
        "id": "ps46NTy8AVNb",
        "colab_type": "code",
        "colab": {}
      },
      "source": [
        "leopard = leopard.select('ImageID','Label','chip_data',leopard.prediction[0],leopard.prediction[1])\n",
        "leopard = leopard.withColumnRenamed('prediction[0]','predicted_label')\n",
        "leopard = leopard.withColumnRenamed('prediction[1]','predicted_score')"
      ],
      "execution_count": null,
      "outputs": []
    },
    {
      "cell_type": "code",
      "metadata": {
        "id": "UMV_gumjAVNd",
        "colab_type": "code",
        "colab": {}
      },
      "source": [
        "leopard = leopard.withColumn('Label',F.lower(F.col('Label')))\n",
        "preds_leopard = leopard.select('predicted_label','Label').toPandas()"
      ],
      "execution_count": null,
      "outputs": []
    },
    {
      "cell_type": "code",
      "metadata": {
        "id": "6UeHteADAVNg",
        "colab_type": "code",
        "colab": {},
        "outputId": "aa118c46-2440-47e3-872a-7e2adbb41a90"
      },
      "source": [
        "leopard_ac = accuracy_score(preds_leopard['predicted_label'],preds_leopard['Label'])\n",
        "leopard_ac"
      ],
      "execution_count": null,
      "outputs": [
        {
          "output_type": "execute_result",
          "data": {
            "text/plain": [
              "0.30622489959839355"
            ]
          },
          "metadata": {
            "tags": []
          },
          "execution_count": 55
        }
      ]
    },
    {
      "cell_type": "code",
      "metadata": {
        "id": "9RNh4_ttAVNk",
        "colab_type": "code",
        "colab": {}
      },
      "source": [
        "lynx = cats.where(cats['Label'] == 'Lynx')"
      ],
      "execution_count": null,
      "outputs": []
    },
    {
      "cell_type": "code",
      "metadata": {
        "id": "9qWhfp1pAVNp",
        "colab_type": "code",
        "colab": {}
      },
      "source": [
        "lynx = lynx.withColumn(\"prediction\", udf_evaluate_chip(\"chip_data\"))"
      ],
      "execution_count": null,
      "outputs": []
    },
    {
      "cell_type": "code",
      "metadata": {
        "id": "Y7FlIzrlAVNt",
        "colab_type": "code",
        "colab": {}
      },
      "source": [
        "lynx = lynx.select('ImageID','Label','chip_data',lynx.prediction[0],lynx.prediction[1])\n",
        "lynx = lynx.withColumnRenamed('prediction[0]','predicted_label')\n",
        "lynx = lynx.withColumnRenamed('prediction[1]','predicted_score')"
      ],
      "execution_count": null,
      "outputs": []
    },
    {
      "cell_type": "code",
      "metadata": {
        "id": "DOTCyIWJAVNx",
        "colab_type": "code",
        "colab": {}
      },
      "source": [
        "lynx = lynx.withColumn('Label',F.lower(F.col('Label')))\n",
        "preds_lynx = lynx.select('predicted_label','Label').toPandas()"
      ],
      "execution_count": null,
      "outputs": []
    },
    {
      "cell_type": "code",
      "metadata": {
        "id": "eeBoUlyCAVN1",
        "colab_type": "code",
        "colab": {},
        "outputId": "94ba8aef-733e-4903-d0a6-49777e27b1b7"
      },
      "source": [
        "lynx_ac = accuracy_score(preds_lynx['predicted_label'],preds_lynx['Label'])\n",
        "lynx_ac"
      ],
      "execution_count": null,
      "outputs": [
        {
          "output_type": "execute_result",
          "data": {
            "text/plain": [
              "0.5431754874651811"
            ]
          },
          "metadata": {
            "tags": []
          },
          "execution_count": 60
        }
      ]
    },
    {
      "cell_type": "code",
      "metadata": {
        "id": "JsMWxavPAVN6",
        "colab_type": "code",
        "colab": {}
      },
      "source": [
        "scores = [lion_ac,tiger_ac,cheetah_ac,leopard_ac,lynx_ac]\n",
        "names = ['Lion','Tiger','Cheetah','Leopard','Lynx']"
      ],
      "execution_count": null,
      "outputs": []
    },
    {
      "cell_type": "code",
      "metadata": {
        "id": "Y2DuismqAVN-",
        "colab_type": "code",
        "colab": {},
        "outputId": "261ead3d-0293-4131-beab-50fed92084e5"
      },
      "source": [
        "import matplotlib.pyplot as plt\n",
        "plt.bar(names,scores)"
      ],
      "execution_count": null,
      "outputs": [
        {
          "output_type": "execute_result",
          "data": {
            "text/plain": [
              "<BarContainer object of 5 artists>"
            ]
          },
          "metadata": {
            "tags": []
          },
          "execution_count": 62
        },
        {
          "output_type": "display_data",
          "data": {
            "image/png": "[encoded data removed]",
            "text/plain": [
              "<Figure size 432x288 with 1 Axes>"
            ]
          },
          "metadata": {
            "tags": [],
            "needs_background": "light"
          }
        }
      ]
    },
    {
      "cell_type": "code",
      "metadata": {
        "id": "S3Oz-99DAVOC",
        "colab_type": "code",
        "colab": {}
      },
      "source": [
        "scores = [float(i) for i in scores]"
      ],
      "execution_count": null,
      "outputs": []
    },
    {
      "cell_type": "code",
      "metadata": {
        "id": "9DnWKJjmAVOH",
        "colab_type": "code",
        "colab": {}
      },
      "source": [
        "df = spark.createDataFrame(zip(names,scores),schema=['Label','Score'])"
      ],
      "execution_count": null,
      "outputs": []
    },
    {
      "cell_type": "code",
      "metadata": {
        "id": "7mTApMp8AVOM",
        "colab_type": "code",
        "colab": {},
        "outputId": "2e87efa6-aac3-4ae5-88b0-f254e71e26b3"
      },
      "source": [
        "df.show()"
      ],
      "execution_count": null,
      "outputs": [
        {
          "output_type": "stream",
          "text": [
            "+-------+-------------------+\n",
            "|  Label|              Score|\n",
            "+-------+-------------------+\n",
            "|   Lion| 0.5683030949839915|\n",
            "|  Tiger| 0.7672349888806523|\n",
            "|Cheetah| 0.5886524822695035|\n",
            "|Leopard|0.30622489959839355|\n",
            "|   Lynx| 0.5431754874651811|\n",
            "+-------+-------------------+\n",
            "\n"
          ],
          "name": "stdout"
        }
      ]
    },
    {
      "cell_type": "code",
      "metadata": {
        "id": "XSu8UXLHAVOQ",
        "colab_type": "code",
        "colab": {}
      },
      "source": [
        "df.write.parquet('/user/yk98337/cats_accuracy_1.parquet')"
      ],
      "execution_count": null,
      "outputs": []
    },
    {
      "cell_type": "code",
      "metadata": {
        "id": "mbzAcCdPAVOU",
        "colab_type": "code",
        "colab": {}
      },
      "source": [
        "df1 = spark.read.parquet('/user/yk98337/cats_accuracy_1.parquet')\n",
        "df2 = spark.read.parquet('/user/yk98337/bears_accuracy_1.parquet')\n",
        "df3 = spark.read.parquet('/user/yk98337/bigan_accuracy_1.parquet')"
      ],
      "execution_count": null,
      "outputs": []
    },
    {
      "cell_type": "code",
      "metadata": {
        "id": "sBVN54G2AVOb",
        "colab_type": "code",
        "colab": {}
      },
      "source": [
        "df = df1.union(df2).union(df3)"
      ],
      "execution_count": null,
      "outputs": []
    },
    {
      "cell_type": "code",
      "metadata": {
        "id": "hh60lAGZAVOh",
        "colab_type": "code",
        "colab": {}
      },
      "source": [
        "df = df.toPandas()"
      ],
      "execution_count": null,
      "outputs": []
    },
    {
      "cell_type": "code",
      "metadata": {
        "id": "-WKIWcL1AVOn",
        "colab_type": "code",
        "colab": {},
        "outputId": "e03d4084-1063-46ab-8c6b-6dfcdfc84351"
      },
      "source": [
        "import matplotlib.pyplot as plt\n",
        "plt.bar(df['Label'],df['Score'])\n",
        "fig=plt.gcf()\n",
        "fig.set_size_inches(18,9)\n",
        "_=fig=plt.title('Accuracy scores of all the labels',fontsize=16)\n",
        "_=fig=plt.xlabel('Labels',fontsize=14)\n",
        "_=fig=plt.ylabel('Score',fontsize=14)"
      ],
      "execution_count": null,
      "outputs": [
        {
          "output_type": "display_data",
          "data": {
            "image/png": "[encoded data removed]",
            "text/plain": [
              "<Figure size 1296x648 with 1 Axes>"
            ]
          },
          "metadata": {
            "tags": [],
            "needs_background": "light"
          }
        }
      ]
    },
    {
      "cell_type": "code",
      "metadata": {
        "id": "ouZAZc_iAVOt",
        "colab_type": "code",
        "colab": {}
      },
      "source": [
        ""
      ],
      "execution_count": null,
      "outputs": []
    }
  ]
}